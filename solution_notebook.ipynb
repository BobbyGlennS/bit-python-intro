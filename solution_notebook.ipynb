{
 "cells": [
  {
   "cell_type": "markdown",
   "metadata": {},
   "source": [
    "# Intro to Python\n",
    "## Solution Sheet"
   ]
  },
  {
   "cell_type": "markdown",
   "metadata": {},
   "source": [
    "As a first step, we need to import some libraries.\n",
    "\n",
    "Libraries?\n",
    "Consider Python as your workbench.\n",
    "Libraries are like little bags with specific tools that allow you to craft beautiful things on your workbench. \n",
    "\n",
    "Two very commonly used libraries in data science are numpy and pandas.\n",
    "- pandas provides easy-to-use data structures and data analysis tools for the Python programming language\n",
    "- numpy can be used to perform a wide variety of mathematical operations on arrays (collections of data)\n",
    "\n",
    "Here we will import pandas. "
   ]
  },
  {
   "cell_type": "code",
   "execution_count": null,
   "metadata": {},
   "outputs": [],
   "source": [
    "import pandas as pd\n"
   ]
  },
  {
   "cell_type": "markdown",
   "metadata": {},
   "source": [
    "> Moving forward we will call a lot of the tools (called methods) that come with pandas. \n",
    "Because we don't want to type 'pandas' everytime, we say 'as pd'. \n",
    "It means that we can now refer to pandas as pd, which saves a bit of typing. \n",
    "It is not essential.\n",
    "\n",
    "\n",
    "\n"
   ]
  },
  {
   "cell_type": "code",
   "execution_count": null,
   "metadata": {},
   "outputs": [],
   "source": []
  },
  {
   "cell_type": "markdown",
   "metadata": {},
   "source": []
  },
  {
   "cell_type": "markdown",
   "metadata": {},
   "source": []
  }
 ],
 "metadata": {
  "kernelspec": {
   "display_name": "python_intro",
   "language": "python",
   "name": "python3"
  },
  "language_info": {
   "name": "python",
   "version": "3.12.2"
  }
 },
 "nbformat": 4,
 "nbformat_minor": 2
}
