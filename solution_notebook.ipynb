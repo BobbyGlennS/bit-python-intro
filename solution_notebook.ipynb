{
 "cells": [
  {
   "cell_type": "markdown",
   "metadata": {},
   "source": [
    "# Intro to Python\n",
    "## Solution Sheet\n",
    "\n",
    "## Section 0: Setting up"
   ]
  },
  {
   "cell_type": "markdown",
   "metadata": {},
   "source": [
    "Python is great.\n",
    "But it's a little bare bones if you use it in its original form.\n",
    "We need to import some libraries if we want to do data science.\n",
    "\n",
    "*Libraries?*  \n",
    "Consider Python as a workbench that came with a few basic tools.\n",
    "You could build anything, but it would be hard work.\n",
    "Libraries are like lovingly crafted little kits with specific tools that allow you to create beautiful things on your workbench and significantly speed up your work. \n",
    "\n",
    "Typically, you need to install libraries on your machine, but as we're using colab, the ones we need today come pre-installed.\n",
    "We only need to tell Python we want to use them - which is what we mean with 'importing'.\n",
    "To stick with the analogy: we already bought our special tools (the 'installation'), but we need to take them out of the storage cabinet to use them ('importing').\n",
    "We will cover installation of libraries in a separate session. \n",
    "R users will recognise the concept of libraries but might think of them as 'packages'.\n",
    "\n",
    "A very commonly used library in data science is [pandas](https://pandas.pydata.org/). \n",
    "It provides easy-to-use data structures and data analysis tools for the Python programming language.\n",
    "We will use it a lot in this workshop.\n",
    "\n",
    "Other libraries often used are:\n",
    "\n",
    "- numpy helps with doing maths on colletions of numbers (like a matrix).\n",
    "- sci-kitlearn & statsmodels fit machine learning and statistical models.\n",
    "- matplotlib, seaborn, and plotly are libraries used for data viz.\n",
    "\n",
    "For this workshop we will at least need pandas and a specific module that comes with plotly, named graph_objects. \n",
    "We import them in the following cell.\n",
    "\n",
    "Put your cursor in the cell and pressing `ctrl+enter` will execute the cell."
   ]
  },
  {
   "cell_type": "code",
   "execution_count": 113,
   "metadata": {
    "metadata": {}
   },
   "outputs": [],
   "source": [
    "import pandas as pd\n",
    "import plotly.graph_objects as go"
   ]
  },
  {
   "cell_type": "markdown",
   "metadata": {},
   "source": [
    "We will be using pandas a lot in this session.\n",
    "Because we don't want to type 'pandas' everytime we use one of its tools, we say 'as pd'. \n",
    "It means that we can now refer to pandas as pd, which saves a bit of typing. \n",
    "You can see we've done the same for plotly.graph_objects.\n",
    "It is not essential to do this, but it's handy.\n",
    "\n",
    "As a next step, we will import the data we'll be playing around with today.\n",
    "Again, put your cursor in the cell, and press `ctrl+enter`.\n",
    "This is going to take a bit of time, it's a large-ish datafile.\n"
   ]
  },
  {
   "cell_type": "code",
   "execution_count": 127,
   "metadata": {
    "metadata": {}
   },
   "outputs": [],
   "source": [
    "# import the data\n",
    "#df = pd.read_csv('https://raw.githubusercontent.com/BobbyGlennS/bit-python-intro/main/data/combined_matches.csv')\n",
    "df = pd.read_csv('data/combined_matches.csv')\n"
   ]
  },
  {
   "cell_type": "markdown",
   "metadata": {},
   "source": [
    "Let's dissect this piece of code a little bit:\n",
    "\n",
    "`# import the data`\n",
    "This line does not actually do anything. It is a *code comment*. It's there to help the human reader understand what the code does. You can include comments in your code by preceding them with a hash `#`. This tells Python to ignore this line when executing the code. It's handy when writing lots of code, or to tell an AI what type of code you want it to generate for you (more on that in another session).\n",
    "\n",
    "`df`    \n",
    "We don't just want to load the data, we will also need to tell python to store it somewhere. We are creating a variable named `df`. It will serve as a pointer to the data that we are about to load into the memory. This way python knows to keep hold of it, and let us bring it back up everytime we type `df`.\n",
    "\n",
    "`=`  \n",
    "We're telling python that this new variable should point to the result of the code that follows the equals sign (`=`).  \n",
    "\n",
    "`pd.read_csv`  \n",
    "Use the function read_csv from the pandas library (which we said we would refer to as pd).  \n",
    "\n",
    "`('https://....')`  \n",
    "Between the parentheses we provide an 'argument'. It's an instruction to the function `read_csv()`. In this case the instruction is: 'go here to retrieve the file'. Note that we don't need to have the file on our laptop! You can point to any accessible location, including a file on your laptop but also, as is the caase here, to an online location.\n",
    "\n",
    "Great! \n",
    "If all went well we now have a dataset loaded.\n",
    "It's stored in Python's memory in an object called a pandas DataFrame, which we can retrieve by typing `df`.\n",
    "\n",
    "#### A dataset of tennis\n",
    "Before diving in, let's first quickly say something about the data itself.\n",
    "\n",
    "hHe data we will be using contains all WTA (women's) and ATP (men's) tennis data since 1968.\n",
    "It is carefully assembled by Jeff Sackmann and is freely available on the internet in the form of github repositories, links for which you can find here:\n",
    "\n",
    "    https://github.com/JeffSackmann/tennis_atp\n",
    "    https://github.com/JeffSackmann/tennis_wta\n",
    "\n",
    "The dataset loaded here has been slightly preprocessed for the purposes of this workshop, by combining some datasets and leaving out some columns, but the data contained in the set we are working with has been left unaltered otherwise.\n",
    "\n",
    "Ok, now we're all set, let's play!\n",
    "\n",
    "First we have a little look.\n",
    "Let's print the dataframe with a function named `print()`.\n",
    "\n",
    "Like with `read_csv()`, we write the function and between the parentheses we provide an argument that contains an instruction for the function to work with. In this case the instruction is to print of whatever we provide as an argument."
   ]
  },
  {
   "cell_type": "code",
   "execution_count": 128,
   "metadata": {
    "metadata": {}
   },
   "outputs": [
    {
     "name": "stdout",
     "output_type": "stream",
     "text": [
      "       Tour          tourney_id      tourney_name surface tourney_level  \\\n",
      "0       ATP           1968-2029            Dublin   Grass             A   \n",
      "1       ATP           1968-2029            Dublin   Grass             A   \n",
      "2       ATP           1968-2029            Dublin   Grass             A   \n",
      "3       ATP           1968-2029            Dublin   Grass             A   \n",
      "4       ATP           1968-2029            Dublin   Grass             A   \n",
      "...     ...                 ...               ...     ...           ...   \n",
      "347318  WTA  2023-W-FC-2023-POS  BJK Cup Playoffs    Hard             D   \n",
      "347319  WTA  2023-W-FC-2023-POS  BJK Cup Playoffs    Hard             D   \n",
      "347320  WTA  2023-W-FC-2023-POS  BJK Cup Playoffs    Hard             D   \n",
      "347321  WTA  2023-W-FC-2023-POS  BJK Cup Playoffs    Hard             D   \n",
      "347322  WTA  2023-W-FC-2023-POS  BJK Cup Playoffs    Hard             D   \n",
      "\n",
      "        tourney_date  match_num  winner_id         winner_name  winner_ht  \\\n",
      "0           19680708        270     112411          Doug Smith        NaN   \n",
      "1           19680708        271     126914     Louis Pretorius        NaN   \n",
      "2           19680708        272     209523        Cecil Pedlow        NaN   \n",
      "3           19680708        273     100084           Tom Okker      178.0   \n",
      "4           19680708        274     100132     Armistead Neely        NaN   \n",
      "...              ...        ...        ...                 ...        ...   \n",
      "347318      20231110        126     213889        Greet Minnen        NaN   \n",
      "347319      20231110        127     201481       Tamira Paszek      165.0   \n",
      "347320      20231110        128     211279        Harriet Dart      175.0   \n",
      "347321      20231110        129     201518    Yanina Wickmayer      182.0   \n",
      "347322      20231110        130     211713  Jaqueline Cristian      180.0   \n",
      "\n",
      "       winner_ioc  winner_age  loser_id              loser_name  loser_ht  \\\n",
      "0             AUS         NaN    110196         Peter Ledbetter       NaN   \n",
      "1             RSA         NaN    209536         Maurice Pollock       NaN   \n",
      "2             IRL         NaN    209535             John Mulvey       NaN   \n",
      "3             NED        24.3    209534         Unknown Fearmon       NaN   \n",
      "4             USA        21.3    209533          Harry Sheridan       NaN   \n",
      "...           ...         ...       ...                     ...       ...   \n",
      "347318        BEL        26.2    214388             Anna Bondar       NaN   \n",
      "347319        AUT        32.9    205892          Giuliana Olmos     170.0   \n",
      "347320        GBR        27.2    216385  Caijsa Wilda Hennemann       NaN   \n",
      "347321        BEL        34.0    213646             Dalma Galfi       NaN   \n",
      "347322        ROU        25.4    236957        Lola Radivojevic       NaN   \n",
      "\n",
      "       loser_ioc  loser_age           score  best_of round  \n",
      "0            IRL       24.0         6-1 7-5        3   R32  \n",
      "1            IRL        NaN         6-1 6-1        3   R32  \n",
      "2            IRL        NaN         6-2 6-2        3   R32  \n",
      "3            NaN        NaN         6-1 6-1        3   R32  \n",
      "4            IRL        NaN         6-2 6-4        3   R32  \n",
      "...          ...        ...             ...      ...   ...  \n",
      "347318       HUN       26.4     3-6 6-3 6-4        3    RR  \n",
      "347319       MEX       30.6     7-5 5-7 6-3        3    RR  \n",
      "347320       SWE       22.6         7-5 6-2        3    RR  \n",
      "347321       HUN       25.2  6-2 6-7(4) 6-1        3    RR  \n",
      "347322       SRB       18.8     7-5 4-6 7-5        3    RR  \n",
      "\n",
      "[347323 rows x 20 columns]\n"
     ]
    }
   ],
   "source": [
    "print(df)\n"
   ]
  },
  {
   "cell_type": "markdown",
   "metadata": {},
   "source": [
    "We can use also the *method* head() on a pandas DataFrame to get the first few rows, which looks slightly nicer.\n",
    "\n",
    "The technical distinction between methods and functions is something for another time. But what is useful to know is that methods are like little appendices that come with certain objects. The pandas DataFrame object has a set of methods that you can use on it. For example to explore the dataframe, which is what we will be doing in the next few code cells.\n",
    "\n",
    "We call them slightly differently than functions: we write the name of the object we want to use a method on, and then after that we put a dot and we write the name of the method.\n",
    "See below.\n"
   ]
  },
  {
   "cell_type": "code",
   "execution_count": 129,
   "metadata": {
    "metadata": {}
   },
   "outputs": [
    {
     "data": {
      "text/html": [
       "<div>\n",
       "<style scoped>\n",
       "    .dataframe tbody tr th:only-of-type {\n",
       "        vertical-align: middle;\n",
       "    }\n",
       "\n",
       "    .dataframe tbody tr th {\n",
       "        vertical-align: top;\n",
       "    }\n",
       "\n",
       "    .dataframe thead th {\n",
       "        text-align: right;\n",
       "    }\n",
       "</style>\n",
       "<table border=\"1\" class=\"dataframe\">\n",
       "  <thead>\n",
       "    <tr style=\"text-align: right;\">\n",
       "      <th></th>\n",
       "      <th>Tour</th>\n",
       "      <th>tourney_id</th>\n",
       "      <th>tourney_name</th>\n",
       "      <th>surface</th>\n",
       "      <th>tourney_level</th>\n",
       "      <th>tourney_date</th>\n",
       "      <th>match_num</th>\n",
       "      <th>winner_id</th>\n",
       "      <th>winner_name</th>\n",
       "      <th>winner_ht</th>\n",
       "      <th>winner_ioc</th>\n",
       "      <th>winner_age</th>\n",
       "      <th>loser_id</th>\n",
       "      <th>loser_name</th>\n",
       "      <th>loser_ht</th>\n",
       "      <th>loser_ioc</th>\n",
       "      <th>loser_age</th>\n",
       "      <th>score</th>\n",
       "      <th>best_of</th>\n",
       "      <th>round</th>\n",
       "    </tr>\n",
       "  </thead>\n",
       "  <tbody>\n",
       "    <tr>\n",
       "      <th>0</th>\n",
       "      <td>ATP</td>\n",
       "      <td>1968-2029</td>\n",
       "      <td>Dublin</td>\n",
       "      <td>Grass</td>\n",
       "      <td>A</td>\n",
       "      <td>19680708</td>\n",
       "      <td>270</td>\n",
       "      <td>112411</td>\n",
       "      <td>Doug Smith</td>\n",
       "      <td>NaN</td>\n",
       "      <td>AUS</td>\n",
       "      <td>NaN</td>\n",
       "      <td>110196</td>\n",
       "      <td>Peter Ledbetter</td>\n",
       "      <td>NaN</td>\n",
       "      <td>IRL</td>\n",
       "      <td>24.0</td>\n",
       "      <td>6-1 7-5</td>\n",
       "      <td>3</td>\n",
       "      <td>R32</td>\n",
       "    </tr>\n",
       "    <tr>\n",
       "      <th>1</th>\n",
       "      <td>ATP</td>\n",
       "      <td>1968-2029</td>\n",
       "      <td>Dublin</td>\n",
       "      <td>Grass</td>\n",
       "      <td>A</td>\n",
       "      <td>19680708</td>\n",
       "      <td>271</td>\n",
       "      <td>126914</td>\n",
       "      <td>Louis Pretorius</td>\n",
       "      <td>NaN</td>\n",
       "      <td>RSA</td>\n",
       "      <td>NaN</td>\n",
       "      <td>209536</td>\n",
       "      <td>Maurice Pollock</td>\n",
       "      <td>NaN</td>\n",
       "      <td>IRL</td>\n",
       "      <td>NaN</td>\n",
       "      <td>6-1 6-1</td>\n",
       "      <td>3</td>\n",
       "      <td>R32</td>\n",
       "    </tr>\n",
       "    <tr>\n",
       "      <th>2</th>\n",
       "      <td>ATP</td>\n",
       "      <td>1968-2029</td>\n",
       "      <td>Dublin</td>\n",
       "      <td>Grass</td>\n",
       "      <td>A</td>\n",
       "      <td>19680708</td>\n",
       "      <td>272</td>\n",
       "      <td>209523</td>\n",
       "      <td>Cecil Pedlow</td>\n",
       "      <td>NaN</td>\n",
       "      <td>IRL</td>\n",
       "      <td>NaN</td>\n",
       "      <td>209535</td>\n",
       "      <td>John Mulvey</td>\n",
       "      <td>NaN</td>\n",
       "      <td>IRL</td>\n",
       "      <td>NaN</td>\n",
       "      <td>6-2 6-2</td>\n",
       "      <td>3</td>\n",
       "      <td>R32</td>\n",
       "    </tr>\n",
       "    <tr>\n",
       "      <th>3</th>\n",
       "      <td>ATP</td>\n",
       "      <td>1968-2029</td>\n",
       "      <td>Dublin</td>\n",
       "      <td>Grass</td>\n",
       "      <td>A</td>\n",
       "      <td>19680708</td>\n",
       "      <td>273</td>\n",
       "      <td>100084</td>\n",
       "      <td>Tom Okker</td>\n",
       "      <td>178.0</td>\n",
       "      <td>NED</td>\n",
       "      <td>24.3</td>\n",
       "      <td>209534</td>\n",
       "      <td>Unknown Fearmon</td>\n",
       "      <td>NaN</td>\n",
       "      <td>NaN</td>\n",
       "      <td>NaN</td>\n",
       "      <td>6-1 6-1</td>\n",
       "      <td>3</td>\n",
       "      <td>R32</td>\n",
       "    </tr>\n",
       "    <tr>\n",
       "      <th>4</th>\n",
       "      <td>ATP</td>\n",
       "      <td>1968-2029</td>\n",
       "      <td>Dublin</td>\n",
       "      <td>Grass</td>\n",
       "      <td>A</td>\n",
       "      <td>19680708</td>\n",
       "      <td>274</td>\n",
       "      <td>100132</td>\n",
       "      <td>Armistead Neely</td>\n",
       "      <td>NaN</td>\n",
       "      <td>USA</td>\n",
       "      <td>21.3</td>\n",
       "      <td>209533</td>\n",
       "      <td>Harry Sheridan</td>\n",
       "      <td>NaN</td>\n",
       "      <td>IRL</td>\n",
       "      <td>NaN</td>\n",
       "      <td>6-2 6-4</td>\n",
       "      <td>3</td>\n",
       "      <td>R32</td>\n",
       "    </tr>\n",
       "  </tbody>\n",
       "</table>\n",
       "</div>"
      ],
      "text/plain": [
       "  Tour tourney_id tourney_name surface tourney_level  tourney_date  match_num  \\\n",
       "0  ATP  1968-2029       Dublin   Grass             A      19680708        270   \n",
       "1  ATP  1968-2029       Dublin   Grass             A      19680708        271   \n",
       "2  ATP  1968-2029       Dublin   Grass             A      19680708        272   \n",
       "3  ATP  1968-2029       Dublin   Grass             A      19680708        273   \n",
       "4  ATP  1968-2029       Dublin   Grass             A      19680708        274   \n",
       "\n",
       "   winner_id      winner_name  winner_ht winner_ioc  winner_age  loser_id  \\\n",
       "0     112411       Doug Smith        NaN        AUS         NaN    110196   \n",
       "1     126914  Louis Pretorius        NaN        RSA         NaN    209536   \n",
       "2     209523     Cecil Pedlow        NaN        IRL         NaN    209535   \n",
       "3     100084        Tom Okker      178.0        NED        24.3    209534   \n",
       "4     100132  Armistead Neely        NaN        USA        21.3    209533   \n",
       "\n",
       "        loser_name  loser_ht loser_ioc  loser_age    score  best_of round  \n",
       "0  Peter Ledbetter       NaN       IRL       24.0  6-1 7-5        3   R32  \n",
       "1  Maurice Pollock       NaN       IRL        NaN  6-1 6-1        3   R32  \n",
       "2      John Mulvey       NaN       IRL        NaN  6-2 6-2        3   R32  \n",
       "3  Unknown Fearmon       NaN       NaN        NaN  6-1 6-1        3   R32  \n",
       "4   Harry Sheridan       NaN       IRL        NaN  6-2 6-4        3   R32  "
      ]
     },
     "execution_count": 129,
     "metadata": {},
     "output_type": "execute_result"
    }
   ],
   "source": [
    "df.head()"
   ]
  },
  {
   "cell_type": "markdown",
   "metadata": {},
   "source": [
    "We can also give methods specific instructions. That's what the parentheses are for! E.g. you can ask for a specific number of rows."
   ]
  },
  {
   "cell_type": "code",
   "execution_count": 130,
   "metadata": {
    "metadata": {}
   },
   "outputs": [
    {
     "data": {
      "text/html": [
       "<div>\n",
       "<style scoped>\n",
       "    .dataframe tbody tr th:only-of-type {\n",
       "        vertical-align: middle;\n",
       "    }\n",
       "\n",
       "    .dataframe tbody tr th {\n",
       "        vertical-align: top;\n",
       "    }\n",
       "\n",
       "    .dataframe thead th {\n",
       "        text-align: right;\n",
       "    }\n",
       "</style>\n",
       "<table border=\"1\" class=\"dataframe\">\n",
       "  <thead>\n",
       "    <tr style=\"text-align: right;\">\n",
       "      <th></th>\n",
       "      <th>Tour</th>\n",
       "      <th>tourney_id</th>\n",
       "      <th>tourney_name</th>\n",
       "      <th>surface</th>\n",
       "      <th>tourney_level</th>\n",
       "      <th>tourney_date</th>\n",
       "      <th>match_num</th>\n",
       "      <th>winner_id</th>\n",
       "      <th>winner_name</th>\n",
       "      <th>winner_ht</th>\n",
       "      <th>winner_ioc</th>\n",
       "      <th>winner_age</th>\n",
       "      <th>loser_id</th>\n",
       "      <th>loser_name</th>\n",
       "      <th>loser_ht</th>\n",
       "      <th>loser_ioc</th>\n",
       "      <th>loser_age</th>\n",
       "      <th>score</th>\n",
       "      <th>best_of</th>\n",
       "      <th>round</th>\n",
       "    </tr>\n",
       "  </thead>\n",
       "  <tbody>\n",
       "    <tr>\n",
       "      <th>0</th>\n",
       "      <td>ATP</td>\n",
       "      <td>1968-2029</td>\n",
       "      <td>Dublin</td>\n",
       "      <td>Grass</td>\n",
       "      <td>A</td>\n",
       "      <td>19680708</td>\n",
       "      <td>270</td>\n",
       "      <td>112411</td>\n",
       "      <td>Doug Smith</td>\n",
       "      <td>NaN</td>\n",
       "      <td>AUS</td>\n",
       "      <td>NaN</td>\n",
       "      <td>110196</td>\n",
       "      <td>Peter Ledbetter</td>\n",
       "      <td>NaN</td>\n",
       "      <td>IRL</td>\n",
       "      <td>24.0</td>\n",
       "      <td>6-1 7-5</td>\n",
       "      <td>3</td>\n",
       "      <td>R32</td>\n",
       "    </tr>\n",
       "    <tr>\n",
       "      <th>1</th>\n",
       "      <td>ATP</td>\n",
       "      <td>1968-2029</td>\n",
       "      <td>Dublin</td>\n",
       "      <td>Grass</td>\n",
       "      <td>A</td>\n",
       "      <td>19680708</td>\n",
       "      <td>271</td>\n",
       "      <td>126914</td>\n",
       "      <td>Louis Pretorius</td>\n",
       "      <td>NaN</td>\n",
       "      <td>RSA</td>\n",
       "      <td>NaN</td>\n",
       "      <td>209536</td>\n",
       "      <td>Maurice Pollock</td>\n",
       "      <td>NaN</td>\n",
       "      <td>IRL</td>\n",
       "      <td>NaN</td>\n",
       "      <td>6-1 6-1</td>\n",
       "      <td>3</td>\n",
       "      <td>R32</td>\n",
       "    </tr>\n",
       "    <tr>\n",
       "      <th>2</th>\n",
       "      <td>ATP</td>\n",
       "      <td>1968-2029</td>\n",
       "      <td>Dublin</td>\n",
       "      <td>Grass</td>\n",
       "      <td>A</td>\n",
       "      <td>19680708</td>\n",
       "      <td>272</td>\n",
       "      <td>209523</td>\n",
       "      <td>Cecil Pedlow</td>\n",
       "      <td>NaN</td>\n",
       "      <td>IRL</td>\n",
       "      <td>NaN</td>\n",
       "      <td>209535</td>\n",
       "      <td>John Mulvey</td>\n",
       "      <td>NaN</td>\n",
       "      <td>IRL</td>\n",
       "      <td>NaN</td>\n",
       "      <td>6-2 6-2</td>\n",
       "      <td>3</td>\n",
       "      <td>R32</td>\n",
       "    </tr>\n",
       "    <tr>\n",
       "      <th>3</th>\n",
       "      <td>ATP</td>\n",
       "      <td>1968-2029</td>\n",
       "      <td>Dublin</td>\n",
       "      <td>Grass</td>\n",
       "      <td>A</td>\n",
       "      <td>19680708</td>\n",
       "      <td>273</td>\n",
       "      <td>100084</td>\n",
       "      <td>Tom Okker</td>\n",
       "      <td>178.0</td>\n",
       "      <td>NED</td>\n",
       "      <td>24.3</td>\n",
       "      <td>209534</td>\n",
       "      <td>Unknown Fearmon</td>\n",
       "      <td>NaN</td>\n",
       "      <td>NaN</td>\n",
       "      <td>NaN</td>\n",
       "      <td>6-1 6-1</td>\n",
       "      <td>3</td>\n",
       "      <td>R32</td>\n",
       "    </tr>\n",
       "    <tr>\n",
       "      <th>4</th>\n",
       "      <td>ATP</td>\n",
       "      <td>1968-2029</td>\n",
       "      <td>Dublin</td>\n",
       "      <td>Grass</td>\n",
       "      <td>A</td>\n",
       "      <td>19680708</td>\n",
       "      <td>274</td>\n",
       "      <td>100132</td>\n",
       "      <td>Armistead Neely</td>\n",
       "      <td>NaN</td>\n",
       "      <td>USA</td>\n",
       "      <td>21.3</td>\n",
       "      <td>209533</td>\n",
       "      <td>Harry Sheridan</td>\n",
       "      <td>NaN</td>\n",
       "      <td>IRL</td>\n",
       "      <td>NaN</td>\n",
       "      <td>6-2 6-4</td>\n",
       "      <td>3</td>\n",
       "      <td>R32</td>\n",
       "    </tr>\n",
       "    <tr>\n",
       "      <th>5</th>\n",
       "      <td>ATP</td>\n",
       "      <td>1968-2029</td>\n",
       "      <td>Dublin</td>\n",
       "      <td>Grass</td>\n",
       "      <td>A</td>\n",
       "      <td>19680708</td>\n",
       "      <td>275</td>\n",
       "      <td>207073</td>\n",
       "      <td>John Mcgrath</td>\n",
       "      <td>NaN</td>\n",
       "      <td>IRL</td>\n",
       "      <td>NaN</td>\n",
       "      <td>209532</td>\n",
       "      <td>Brendan Kelly</td>\n",
       "      <td>NaN</td>\n",
       "      <td>IRL</td>\n",
       "      <td>NaN</td>\n",
       "      <td>4-6 8-6 6-2</td>\n",
       "      <td>3</td>\n",
       "      <td>R32</td>\n",
       "    </tr>\n",
       "    <tr>\n",
       "      <th>6</th>\n",
       "      <td>ATP</td>\n",
       "      <td>1968-2029</td>\n",
       "      <td>Dublin</td>\n",
       "      <td>Grass</td>\n",
       "      <td>A</td>\n",
       "      <td>19680708</td>\n",
       "      <td>276</td>\n",
       "      <td>109783</td>\n",
       "      <td>Bob Howe</td>\n",
       "      <td>183.0</td>\n",
       "      <td>AUS</td>\n",
       "      <td>42.9</td>\n",
       "      <td>125672</td>\n",
       "      <td>Kenneth Reid</td>\n",
       "      <td>NaN</td>\n",
       "      <td>IRL</td>\n",
       "      <td>NaN</td>\n",
       "      <td>6-0 9-7</td>\n",
       "      <td>3</td>\n",
       "      <td>R32</td>\n",
       "    </tr>\n",
       "    <tr>\n",
       "      <th>7</th>\n",
       "      <td>ATP</td>\n",
       "      <td>1968-2029</td>\n",
       "      <td>Dublin</td>\n",
       "      <td>Grass</td>\n",
       "      <td>A</td>\n",
       "      <td>19680708</td>\n",
       "      <td>277</td>\n",
       "      <td>109745</td>\n",
       "      <td>Lew Hoad</td>\n",
       "      <td>179.0</td>\n",
       "      <td>AUS</td>\n",
       "      <td>33.6</td>\n",
       "      <td>125716</td>\n",
       "      <td>Jim Buckley</td>\n",
       "      <td>NaN</td>\n",
       "      <td>IRL</td>\n",
       "      <td>31.2</td>\n",
       "      <td>6-1 6-1</td>\n",
       "      <td>3</td>\n",
       "      <td>R32</td>\n",
       "    </tr>\n",
       "    <tr>\n",
       "      <th>8</th>\n",
       "      <td>ATP</td>\n",
       "      <td>1968-2029</td>\n",
       "      <td>Dublin</td>\n",
       "      <td>Grass</td>\n",
       "      <td>A</td>\n",
       "      <td>19680708</td>\n",
       "      <td>278</td>\n",
       "      <td>201749</td>\n",
       "      <td>Graydon Garner</td>\n",
       "      <td>NaN</td>\n",
       "      <td>RSA</td>\n",
       "      <td>23.0</td>\n",
       "      <td>113401</td>\n",
       "      <td>Vivian Gotto</td>\n",
       "      <td>NaN</td>\n",
       "      <td>IRL</td>\n",
       "      <td>46.8</td>\n",
       "      <td>6-1 6-0</td>\n",
       "      <td>3</td>\n",
       "      <td>R32</td>\n",
       "    </tr>\n",
       "    <tr>\n",
       "      <th>9</th>\n",
       "      <td>ATP</td>\n",
       "      <td>1968-2029</td>\n",
       "      <td>Dublin</td>\n",
       "      <td>Grass</td>\n",
       "      <td>A</td>\n",
       "      <td>19680708</td>\n",
       "      <td>279</td>\n",
       "      <td>209525</td>\n",
       "      <td>Des Foley</td>\n",
       "      <td>NaN</td>\n",
       "      <td>IRL</td>\n",
       "      <td>NaN</td>\n",
       "      <td>110045</td>\n",
       "      <td>Peter Mockler</td>\n",
       "      <td>NaN</td>\n",
       "      <td>IRL</td>\n",
       "      <td>NaN</td>\n",
       "      <td>4-6 6-4 6-0</td>\n",
       "      <td>3</td>\n",
       "      <td>R32</td>\n",
       "    </tr>\n",
       "  </tbody>\n",
       "</table>\n",
       "</div>"
      ],
      "text/plain": [
       "  Tour tourney_id tourney_name surface tourney_level  tourney_date  match_num  \\\n",
       "0  ATP  1968-2029       Dublin   Grass             A      19680708        270   \n",
       "1  ATP  1968-2029       Dublin   Grass             A      19680708        271   \n",
       "2  ATP  1968-2029       Dublin   Grass             A      19680708        272   \n",
       "3  ATP  1968-2029       Dublin   Grass             A      19680708        273   \n",
       "4  ATP  1968-2029       Dublin   Grass             A      19680708        274   \n",
       "5  ATP  1968-2029       Dublin   Grass             A      19680708        275   \n",
       "6  ATP  1968-2029       Dublin   Grass             A      19680708        276   \n",
       "7  ATP  1968-2029       Dublin   Grass             A      19680708        277   \n",
       "8  ATP  1968-2029       Dublin   Grass             A      19680708        278   \n",
       "9  ATP  1968-2029       Dublin   Grass             A      19680708        279   \n",
       "\n",
       "   winner_id      winner_name  winner_ht winner_ioc  winner_age  loser_id  \\\n",
       "0     112411       Doug Smith        NaN        AUS         NaN    110196   \n",
       "1     126914  Louis Pretorius        NaN        RSA         NaN    209536   \n",
       "2     209523     Cecil Pedlow        NaN        IRL         NaN    209535   \n",
       "3     100084        Tom Okker      178.0        NED        24.3    209534   \n",
       "4     100132  Armistead Neely        NaN        USA        21.3    209533   \n",
       "5     207073     John Mcgrath        NaN        IRL         NaN    209532   \n",
       "6     109783         Bob Howe      183.0        AUS        42.9    125672   \n",
       "7     109745         Lew Hoad      179.0        AUS        33.6    125716   \n",
       "8     201749   Graydon Garner        NaN        RSA        23.0    113401   \n",
       "9     209525        Des Foley        NaN        IRL         NaN    110045   \n",
       "\n",
       "        loser_name  loser_ht loser_ioc  loser_age        score  best_of round  \n",
       "0  Peter Ledbetter       NaN       IRL       24.0      6-1 7-5        3   R32  \n",
       "1  Maurice Pollock       NaN       IRL        NaN      6-1 6-1        3   R32  \n",
       "2      John Mulvey       NaN       IRL        NaN      6-2 6-2        3   R32  \n",
       "3  Unknown Fearmon       NaN       NaN        NaN      6-1 6-1        3   R32  \n",
       "4   Harry Sheridan       NaN       IRL        NaN      6-2 6-4        3   R32  \n",
       "5    Brendan Kelly       NaN       IRL        NaN  4-6 8-6 6-2        3   R32  \n",
       "6     Kenneth Reid       NaN       IRL        NaN      6-0 9-7        3   R32  \n",
       "7      Jim Buckley       NaN       IRL       31.2      6-1 6-1        3   R32  \n",
       "8     Vivian Gotto       NaN       IRL       46.8      6-1 6-0        3   R32  \n",
       "9    Peter Mockler       NaN       IRL        NaN  4-6 6-4 6-0        3   R32  "
      ]
     },
     "execution_count": 130,
     "metadata": {},
     "output_type": "execute_result"
    }
   ],
   "source": [
    "df.head(10)\n"
   ]
  },
  {
   "cell_type": "markdown",
   "metadata": {},
   "source": [
    "We can also ask pandas to display specific columns."
   ]
  },
  {
   "cell_type": "code",
   "execution_count": 6,
   "metadata": {
    "metadata": {}
   },
   "outputs": [
    {
     "data": {
      "text/html": [
       "<div>\n",
       "<style scoped>\n",
       "    .dataframe tbody tr th:only-of-type {\n",
       "        vertical-align: middle;\n",
       "    }\n",
       "\n",
       "    .dataframe tbody tr th {\n",
       "        vertical-align: top;\n",
       "    }\n",
       "\n",
       "    .dataframe thead th {\n",
       "        text-align: right;\n",
       "    }\n",
       "</style>\n",
       "<table border=\"1\" class=\"dataframe\">\n",
       "  <thead>\n",
       "    <tr style=\"text-align: right;\">\n",
       "      <th></th>\n",
       "      <th>tourney_date</th>\n",
       "      <th>tourney_name</th>\n",
       "      <th>winner_name</th>\n",
       "    </tr>\n",
       "  </thead>\n",
       "  <tbody>\n",
       "    <tr>\n",
       "      <th>0</th>\n",
       "      <td>20181231</td>\n",
       "      <td>Brisbane</td>\n",
       "      <td>Kei Nishikori</td>\n",
       "    </tr>\n",
       "    <tr>\n",
       "      <th>1</th>\n",
       "      <td>20181231</td>\n",
       "      <td>Brisbane</td>\n",
       "      <td>Daniil Medvedev</td>\n",
       "    </tr>\n",
       "    <tr>\n",
       "      <th>2</th>\n",
       "      <td>20181231</td>\n",
       "      <td>Brisbane</td>\n",
       "      <td>Kei Nishikori</td>\n",
       "    </tr>\n",
       "    <tr>\n",
       "      <th>3</th>\n",
       "      <td>20181231</td>\n",
       "      <td>Brisbane</td>\n",
       "      <td>Jo-Wilfried Tsonga</td>\n",
       "    </tr>\n",
       "    <tr>\n",
       "      <th>4</th>\n",
       "      <td>20181231</td>\n",
       "      <td>Brisbane</td>\n",
       "      <td>Daniil Medvedev</td>\n",
       "    </tr>\n",
       "    <tr>\n",
       "      <th>...</th>\n",
       "      <td>...</td>\n",
       "      <td>...</td>\n",
       "      <td>...</td>\n",
       "    </tr>\n",
       "    <tr>\n",
       "      <th>347318</th>\n",
       "      <td>19781103</td>\n",
       "      <td>Wightman Cup</td>\n",
       "      <td>Chris Evert</td>\n",
       "    </tr>\n",
       "    <tr>\n",
       "      <th>347319</th>\n",
       "      <td>19781103</td>\n",
       "      <td>Wightman Cup</td>\n",
       "      <td>Michelle Tyler</td>\n",
       "    </tr>\n",
       "    <tr>\n",
       "      <th>347320</th>\n",
       "      <td>19781103</td>\n",
       "      <td>Wightman Cup</td>\n",
       "      <td>Virginia Wade</td>\n",
       "    </tr>\n",
       "    <tr>\n",
       "      <th>347321</th>\n",
       "      <td>19781103</td>\n",
       "      <td>Wightman Cup</td>\n",
       "      <td>Chris Evert</td>\n",
       "    </tr>\n",
       "    <tr>\n",
       "      <th>347322</th>\n",
       "      <td>19781103</td>\n",
       "      <td>Wightman Cup</td>\n",
       "      <td>Sue Barker</td>\n",
       "    </tr>\n",
       "  </tbody>\n",
       "</table>\n",
       "<p>347323 rows × 3 columns</p>\n",
       "</div>"
      ],
      "text/plain": [
       "        tourney_date  tourney_name         winner_name\n",
       "0           20181231      Brisbane       Kei Nishikori\n",
       "1           20181231      Brisbane     Daniil Medvedev\n",
       "2           20181231      Brisbane       Kei Nishikori\n",
       "3           20181231      Brisbane  Jo-Wilfried Tsonga\n",
       "4           20181231      Brisbane     Daniil Medvedev\n",
       "...              ...           ...                 ...\n",
       "347318      19781103  Wightman Cup         Chris Evert\n",
       "347319      19781103  Wightman Cup      Michelle Tyler\n",
       "347320      19781103  Wightman Cup       Virginia Wade\n",
       "347321      19781103  Wightman Cup         Chris Evert\n",
       "347322      19781103  Wightman Cup          Sue Barker\n",
       "\n",
       "[347323 rows x 3 columns]"
      ]
     },
     "execution_count": 6,
     "metadata": {},
     "output_type": "execute_result"
    }
   ],
   "source": [
    "# view tourney date, tourney name, and winner name columns\n",
    "df[['tourney_date', 'tourney_name', 'winner_name']]"
   ]
  },
  {
   "cell_type": "markdown",
   "metadata": {},
   "source": [
    "You can combine different operations.\n",
    "We call this 'chaining'.\n",
    "This code is executed sequentially.\n",
    "Before running it, try to picture in your head what it will do."
   ]
  },
  {
   "cell_type": "code",
   "execution_count": 132,
   "metadata": {
    "metadata": {}
   },
   "outputs": [
    {
     "data": {
      "text/html": [
       "<div>\n",
       "<style scoped>\n",
       "    .dataframe tbody tr th:only-of-type {\n",
       "        vertical-align: middle;\n",
       "    }\n",
       "\n",
       "    .dataframe tbody tr th {\n",
       "        vertical-align: top;\n",
       "    }\n",
       "\n",
       "    .dataframe thead th {\n",
       "        text-align: right;\n",
       "    }\n",
       "</style>\n",
       "<table border=\"1\" class=\"dataframe\">\n",
       "  <thead>\n",
       "    <tr style=\"text-align: right;\">\n",
       "      <th></th>\n",
       "      <th>tourney_date</th>\n",
       "      <th>tourney_name</th>\n",
       "      <th>winner_name</th>\n",
       "    </tr>\n",
       "  </thead>\n",
       "  <tbody>\n",
       "    <tr>\n",
       "      <th>0</th>\n",
       "      <td>19680708</td>\n",
       "      <td>Dublin</td>\n",
       "      <td>Doug Smith</td>\n",
       "    </tr>\n",
       "    <tr>\n",
       "      <th>1</th>\n",
       "      <td>19680708</td>\n",
       "      <td>Dublin</td>\n",
       "      <td>Louis Pretorius</td>\n",
       "    </tr>\n",
       "    <tr>\n",
       "      <th>2</th>\n",
       "      <td>19680708</td>\n",
       "      <td>Dublin</td>\n",
       "      <td>Cecil Pedlow</td>\n",
       "    </tr>\n",
       "    <tr>\n",
       "      <th>3</th>\n",
       "      <td>19680708</td>\n",
       "      <td>Dublin</td>\n",
       "      <td>Tom Okker</td>\n",
       "    </tr>\n",
       "    <tr>\n",
       "      <th>4</th>\n",
       "      <td>19680708</td>\n",
       "      <td>Dublin</td>\n",
       "      <td>Armistead Neely</td>\n",
       "    </tr>\n",
       "  </tbody>\n",
       "</table>\n",
       "</div>"
      ],
      "text/plain": [
       "   tourney_date tourney_name      winner_name\n",
       "0      19680708       Dublin       Doug Smith\n",
       "1      19680708       Dublin  Louis Pretorius\n",
       "2      19680708       Dublin     Cecil Pedlow\n",
       "3      19680708       Dublin        Tom Okker\n",
       "4      19680708       Dublin  Armistead Neely"
      ]
     },
     "execution_count": 132,
     "metadata": {},
     "output_type": "execute_result"
    }
   ],
   "source": [
    "df[['tourney_date', 'tourney_name', 'winner_name']].head(5)"
   ]
  },
  {
   "cell_type": "markdown",
   "metadata": {},
   "source": [
    "Here are some other operations that you may find useful:"
   ]
  },
  {
   "cell_type": "code",
   "execution_count": 133,
   "metadata": {
    "metadata": {}
   },
   "outputs": [
    {
     "data": {
      "text/plain": [
       "Index(['Tour', 'tourney_id', 'tourney_name', 'surface', 'tourney_level',\n",
       "       'tourney_date', 'match_num', 'winner_id', 'winner_name', 'winner_ht',\n",
       "       'winner_ioc', 'winner_age', 'loser_id', 'loser_name', 'loser_ht',\n",
       "       'loser_ioc', 'loser_age', 'score', 'best_of', 'round'],\n",
       "      dtype='object')"
      ]
     },
     "execution_count": 133,
     "metadata": {},
     "output_type": "execute_result"
    }
   ],
   "source": [
    "#get column names\n",
    "df.columns"
   ]
  },
  {
   "cell_type": "code",
   "execution_count": 134,
   "metadata": {
    "metadata": {}
   },
   "outputs": [
    {
     "data": {
      "text/plain": [
       "(347323, 20)"
      ]
     },
     "execution_count": 134,
     "metadata": {},
     "output_type": "execute_result"
    }
   ],
   "source": [
    "# how many rows and columns?\n",
    "df.shape\n"
   ]
  },
  {
   "cell_type": "markdown",
   "metadata": {},
   "source": [
    "## Exercise 0.1\n",
    "\n",
    "You've now seen a few ways to explore a dataframe.\n",
    "\n",
    "In the next cell, have a go yourself.\n",
    "\n",
    "- Can you create a subset of data by *sampling* 20 rows from a select set of *colums* of your choice? *Note: don't just select the top 5 rows, but sample some at random.*\n",
    "- Can you store this subset in a new pandas DataFrame?\n",
    "- Can you check the dimensions of this new dataframe?\n",
    "\n",
    "For this, you will need to use at least one new method."
   ]
  },
  {
   "cell_type": "code",
   "execution_count": 135,
   "metadata": {
    "metadata": {}
   },
   "outputs": [],
   "source": [
    "df2 = df[['tourney_date', 'tourney_name', 'winner_name']].sample(20)\n",
    "\n",
    "df2.shape\n",
    "\n",
    "# do the same as above but with independent copy of the data. We'll cover this another time.\n",
    "df3 = df[['tourney_date', 'tourney_name', 'winner_name']].sample(20).copy()"
   ]
  },
  {
   "cell_type": "markdown",
   "metadata": {},
   "source": [
    "## Section 1: Diving in\n",
    "\n",
    "Now we are setup, we will ask you to do some exercises to answer two questions:\n",
    "\n",
    "- Who won the most Grand Slam Tournaments between 2000 and 2019? \n",
    "- Who won the most Australian Opens in the same period? \n",
    "\n",
    "For this, we will have to transform some of the data from one form into another. \n",
    "We call this process *Data Wrangling*.\n",
    "\n",
    "Let's have a go.\n",
    "\n",
    "Here are some references to the documentation of functions that we will use: \\\n",
    "\\\n",
    "https://pandas.pydata.org/pandas-docs/stable/reference/api/pandas.DataFrame.sample.html \\\n",
    "https://pandas.pydata.org/pandas-docs/stable/reference/api/pandas.Series.value_counts.html \\\n",
    "https://pandas.pydata.org/pandas-docs/stable/reference/api/pandas.DataFrame.replace.html \\\n",
    "https://pandas.pydata.org/pandas-docs/stable/reference/api/pandas.DataFrame.groupby.html\n",
    "\n",
    "Read about using plotly here: \\\n",
    "\\\n",
    "https://plotly.com/python-api-reference/generated/plotly.graph_objects.Bar.html\n",
    "\n",
    "### Exercise 1.1: Sort out the match dates\n",
    "\n",
    "So that we can select tournaments from the right time period, we need to make sure the date of the matches is in the right format.\n",
    "\n",
    "Find the column that stores the match dates and reformat it so that it is a date, stored as YYYY-MM-DD.\n",
    "\n",
    "For this exercise, consider using the [datetime](https://pandas.pydata.org/docs/reference/api/pandas.to_datetime.html) method. \n",
    "You can also start with a google or a GPT question on how to turn a pandas column into the format YYYY-MM-DD."
   ]
  },
  {
   "cell_type": "code",
   "execution_count": 137,
   "metadata": {
    "metadata": {}
   },
   "outputs": [
    {
     "data": {
      "text/plain": [
       "115575   1998-08-03\n",
       "262218   1993-06-21\n",
       "94179    1993-01-04\n",
       "294612   2004-03-10\n",
       "32404    1976-01-26\n",
       "Name: tourney_date, dtype: datetime64[ns]"
      ]
     },
     "execution_count": 137,
     "metadata": {},
     "output_type": "execute_result"
    }
   ],
   "source": [
    "# Inspecting a sample of 5 rows from the 'tourney_date' column\n",
    "df['tourney_date'].sample(5)"
   ]
  },
  {
   "cell_type": "markdown",
   "metadata": {},
   "source": [
    "The date is in an unusual format that may be difficult to read. \n",
    "\n",
    "Let's change the format of this column using the 'to_datetime' function in pandas. See https://pandas.pydata.org/docs/reference/api/pandas.to_datetime.html for documentation. "
   ]
  },
  {
   "cell_type": "code",
   "execution_count": 136,
   "metadata": {
    "metadata": {}
   },
   "outputs": [],
   "source": [
    "# Changing the date format\n",
    "df['tourney_date'] = pd.to_datetime(df['tourney_date'], format='%Y%m%d')"
   ]
  },
  {
   "cell_type": "markdown",
   "metadata": {},
   "source": [
    "Let's check that it has worked as intended."
   ]
  },
  {
   "cell_type": "code",
   "execution_count": 138,
   "metadata": {
    "metadata": {}
   },
   "outputs": [
    {
     "data": {
      "text/plain": [
       "68725    1985-12-20\n",
       "264606   1993-04-22\n",
       "37514    1977-05-23\n",
       "150992   2009-02-16\n",
       "189180   2023-01-16\n",
       "Name: tourney_date, dtype: datetime64[ns]"
      ]
     },
     "execution_count": 138,
     "metadata": {},
     "output_type": "execute_result"
    }
   ],
   "source": [
    "# Checking the new 'tourney_date' column\n",
    "df['tourney_date'].sample(5)"
   ]
  },
  {
   "cell_type": "markdown",
   "metadata": {},
   "source": [
    "This looks good! \n",
    "\n",
    "### Exercise 1.2: Identify finals matches from Grand Slam Tournaments\n",
    "\n",
    "We only want to include final matches from grand slam tournaments in the dataframe, as they will tell us who won the relevant tournaments.\n",
    "For this we need to work out where we get that information from.\n",
    "\n",
    "- First work out which column will tell us what round a match was part of, and how you might identify final rounds.\n",
    "- Then do the same for tournaments, find the column that tells us the level of a tournament, and how we can identify grand slam tournaments.\n",
    "\n",
    "From the column names we can derive that 'round' may be the relevant column. Let's work out which matches are finals:"
   ]
  },
  {
   "cell_type": "code",
   "execution_count": 14,
   "metadata": {},
   "outputs": [
    {
     "data": {
      "text/plain": [
       "round\n",
       "R32     110623\n",
       "R16      62374\n",
       "R64      55736\n",
       "QF       32921\n",
       "RR       29925\n",
       "R128     28956\n",
       "SF       17355\n",
       "F         9124\n",
       "BR         277\n",
       "ER          32\n",
       "Name: count, dtype: int64"
      ]
     },
     "execution_count": 14,
     "metadata": {},
     "output_type": "execute_result"
    }
   ],
   "source": [
    "df['round'].value_counts()"
   ]
  },
  {
   "cell_type": "markdown",
   "metadata": {},
   "source": [
    "A good guess here would be 'F' for final. This can be checked by checking a specific row with 'F' in the 'tourney_level' column and seeing that the match detail are correct using google. \n",
    "\n",
    "Let's find the rows that correspond to grand slams."
   ]
  },
  {
   "cell_type": "code",
   "execution_count": 15,
   "metadata": {},
   "outputs": [
    {
     "data": {
      "text/plain": [
       "tourney_level\n",
       "A     126189\n",
       "W      70090\n",
       "G      51766\n",
       "D      26625\n",
       "M      23608\n",
       "I      14054\n",
       "P       9903\n",
       "T1      4778\n",
       "T3      4562\n",
       "T2      4329\n",
       "PM      3663\n",
       "T4      2912\n",
       "CC      1913\n",
       "F       1067\n",
       "T5       968\n",
       "O        608\n",
       "E        282\n",
       "J          6\n",
       "Name: count, dtype: int64"
      ]
     },
     "execution_count": 15,
     "metadata": {},
     "output_type": "execute_result"
    }
   ],
   "source": [
    "# Inspecting the 'tourney_level' column\n",
    "df['tourney_level'].value_counts()\n"
   ]
  },
  {
   "cell_type": "markdown",
   "metadata": {},
   "source": [
    "It is unclear which code corresponds to grand slams. Let's have a look at the tournament name and level for some rows. "
   ]
  },
  {
   "cell_type": "code",
   "execution_count": 139,
   "metadata": {
    "metadata": {}
   },
   "outputs": [
    {
     "data": {
      "text/html": [
       "<div>\n",
       "<style scoped>\n",
       "    .dataframe tbody tr th:only-of-type {\n",
       "        vertical-align: middle;\n",
       "    }\n",
       "\n",
       "    .dataframe tbody tr th {\n",
       "        vertical-align: top;\n",
       "    }\n",
       "\n",
       "    .dataframe thead th {\n",
       "        text-align: right;\n",
       "    }\n",
       "</style>\n",
       "<table border=\"1\" class=\"dataframe\">\n",
       "  <thead>\n",
       "    <tr style=\"text-align: right;\">\n",
       "      <th></th>\n",
       "      <th>tourney_name</th>\n",
       "      <th>tourney_level</th>\n",
       "    </tr>\n",
       "  </thead>\n",
       "  <tbody>\n",
       "    <tr>\n",
       "      <th>246941</th>\n",
       "      <td>Bastad</td>\n",
       "      <td>W</td>\n",
       "    </tr>\n",
       "    <tr>\n",
       "      <th>45400</th>\n",
       "      <td>Sydney Indoor</td>\n",
       "      <td>A</td>\n",
       "    </tr>\n",
       "    <tr>\n",
       "      <th>204853</th>\n",
       "      <td>Toronto</td>\n",
       "      <td>W</td>\n",
       "    </tr>\n",
       "    <tr>\n",
       "      <th>46477</th>\n",
       "      <td>Baltimore WCT</td>\n",
       "      <td>A</td>\n",
       "    </tr>\n",
       "    <tr>\n",
       "      <th>218671</th>\n",
       "      <td>Oldsmar</td>\n",
       "      <td>W</td>\n",
       "    </tr>\n",
       "    <tr>\n",
       "      <th>42224</th>\n",
       "      <td>Sarasota</td>\n",
       "      <td>A</td>\n",
       "    </tr>\n",
       "    <tr>\n",
       "      <th>110566</th>\n",
       "      <td>Davis Cup WG QF: USA vs NED</td>\n",
       "      <td>D</td>\n",
       "    </tr>\n",
       "    <tr>\n",
       "      <th>104481</th>\n",
       "      <td>Kitzbuhel</td>\n",
       "      <td>A</td>\n",
       "    </tr>\n",
       "    <tr>\n",
       "      <th>17179</th>\n",
       "      <td>South Orange</td>\n",
       "      <td>A</td>\n",
       "    </tr>\n",
       "    <tr>\n",
       "      <th>958</th>\n",
       "      <td>Davis Cup EUR QF: BEL vs TCH</td>\n",
       "      <td>D</td>\n",
       "    </tr>\n",
       "    <tr>\n",
       "      <th>232993</th>\n",
       "      <td>Filderstadt</td>\n",
       "      <td>W</td>\n",
       "    </tr>\n",
       "    <tr>\n",
       "      <th>96771</th>\n",
       "      <td>Los Angeles</td>\n",
       "      <td>A</td>\n",
       "    </tr>\n",
       "    <tr>\n",
       "      <th>194430</th>\n",
       "      <td>Ingolstadt</td>\n",
       "      <td>W</td>\n",
       "    </tr>\n",
       "    <tr>\n",
       "      <th>190496</th>\n",
       "      <td>Mallorca</td>\n",
       "      <td>A</td>\n",
       "    </tr>\n",
       "    <tr>\n",
       "      <th>68243</th>\n",
       "      <td>US Open</td>\n",
       "      <td>G</td>\n",
       "    </tr>\n",
       "    <tr>\n",
       "      <th>223955</th>\n",
       "      <td>New South Wales</td>\n",
       "      <td>W</td>\n",
       "    </tr>\n",
       "    <tr>\n",
       "      <th>154848</th>\n",
       "      <td>US Open</td>\n",
       "      <td>G</td>\n",
       "    </tr>\n",
       "    <tr>\n",
       "      <th>290029</th>\n",
       "      <td>Brussels</td>\n",
       "      <td>T4</td>\n",
       "    </tr>\n",
       "    <tr>\n",
       "      <th>239393</th>\n",
       "      <td>Dallas</td>\n",
       "      <td>W</td>\n",
       "    </tr>\n",
       "    <tr>\n",
       "      <th>16577</th>\n",
       "      <td>Wimbledon</td>\n",
       "      <td>G</td>\n",
       "    </tr>\n",
       "  </tbody>\n",
       "</table>\n",
       "</div>"
      ],
      "text/plain": [
       "                        tourney_name tourney_level\n",
       "246941                        Bastad             W\n",
       "45400                  Sydney Indoor             A\n",
       "204853                       Toronto             W\n",
       "46477                  Baltimore WCT             A\n",
       "218671                       Oldsmar             W\n",
       "42224                       Sarasota             A\n",
       "110566   Davis Cup WG QF: USA vs NED             D\n",
       "104481                     Kitzbuhel             A\n",
       "17179                   South Orange             A\n",
       "958     Davis Cup EUR QF: BEL vs TCH             D\n",
       "232993                   Filderstadt             W\n",
       "96771                    Los Angeles             A\n",
       "194430                    Ingolstadt             W\n",
       "190496                      Mallorca             A\n",
       "68243                        US Open             G\n",
       "223955               New South Wales             W\n",
       "154848                       US Open             G\n",
       "290029                      Brussels            T4\n",
       "239393                        Dallas             W\n",
       "16577                      Wimbledon             G"
      ]
     },
     "execution_count": 139,
     "metadata": {},
     "output_type": "execute_result"
    }
   ],
   "source": [
    "df[['tourney_name', 'tourney_level']].sample(20)"
   ]
  },
  {
   "cell_type": "markdown",
   "metadata": {},
   "source": [
    "It looks like 'G' is the level for grand slams. Let's check that all grand slams are included in this level."
   ]
  },
  {
   "cell_type": "code",
   "execution_count": 141,
   "metadata": {
    "metadata": {}
   },
   "outputs": [
    {
     "data": {
      "text/plain": [
       "tourney_name\n",
       "Wimbledon                   13490\n",
       "Roland Garros               13304\n",
       "US Open                     12382\n",
       "Australian Open             11231\n",
       "Us Open                      1143\n",
       "Australian Open-2              63\n",
       "Australian Chps.               61\n",
       "Australian Championships       61\n",
       "Australian Open 2              31\n",
       "Name: count, dtype: int64"
      ]
     },
     "execution_count": 141,
     "metadata": {},
     "output_type": "execute_result"
    }
   ],
   "source": [
    "df[df['tourney_level'] == 'G']['tourney_name'].value_counts()"
   ]
  },
  {
   "cell_type": "markdown",
   "metadata": {},
   "source": [
    "This looks good, except for the fact that there are multiple formats for some of the tournaments, which may cause issues when analysing the Australian Open tournaments. \n",
    "\n",
    "Let's rename some of them so that each grand slam only has one format. "
   ]
  },
  {
   "cell_type": "code",
   "execution_count": 142,
   "metadata": {
    "metadata": {}
   },
   "outputs": [
    {
     "data": {
      "text/plain": [
       "tourney_name\n",
       "US Open            13525\n",
       "Wimbledon          13490\n",
       "Roland Garros      13304\n",
       "Australian Open    11447\n",
       "Name: count, dtype: int64"
      ]
     },
     "execution_count": 142,
     "metadata": {},
     "output_type": "execute_result"
    }
   ],
   "source": [
    "# Setting up a dictionary of desired replacements\n",
    "replacements = {\n",
    "    'Us Open' : 'US Open',\n",
    "    'Australian Open-2' : 'Australian Open',\n",
    "    'Australian Chps.' : 'Australian Open',\n",
    "    'Australian Open 2' : 'Australian Open',\n",
    "    'Australian Championships' : 'Australian Open'\n",
    "}\n",
    "\n",
    "# Doing the replacements\n",
    "df['tourney_name'] = df['tourney_name'].replace(replacements)\n",
    "\n",
    "# Checking the replacements\n",
    "df[df['tourney_level'] == 'G']['tourney_name'].value_counts()"
   ]
  },
  {
   "cell_type": "markdown",
   "metadata": {},
   "source": [
    "Great! This has worked and we are ready to make our filtered dataframe."
   ]
  },
  {
   "cell_type": "markdown",
   "metadata": {},
   "source": [
    "### Exercise 1.3: Filter the data \n",
    "\n",
    "Next we want to create a dataset that only contains the data we are interested in. \n",
    "This is known as filtering.\n",
    "\n",
    "As a reminder the data should only contain:\n",
    "- Data from grand slam tournaments\n",
    "- The final rounds of those tournaments\n",
    "- Only between 2000 and 2019"
   ]
  },
  {
   "cell_type": "markdown",
   "metadata": {},
   "source": [
    "First let's filter to only include grand slam finals:"
   ]
  },
  {
   "cell_type": "code",
   "execution_count": 149,
   "metadata": {
    "metadata": {}
   },
   "outputs": [],
   "source": [
    "# Making a dataframe that only includes grandslams\n",
    "gs_df = df[(df['tourney_level'] == 'G')] \n",
    "\n",
    "# only include final rounds\n",
    "gs_df = gs_df[(gs_df['round'] == 'F')] "
   ]
  },
  {
   "cell_type": "markdown",
   "metadata": {},
   "source": [
    "Next we filter the dataframe to only include matches that happened between 2000 and 2019:"
   ]
  },
  {
   "cell_type": "code",
   "execution_count": 150,
   "metadata": {
    "metadata": {}
   },
   "outputs": [],
   "source": [
    "gs_df = gs_df[(gs_df['tourney_date'].dt.year >= 2000) & (gs_df['tourney_date'].dt.year < 2020)]"
   ]
  },
  {
   "cell_type": "markdown",
   "metadata": {},
   "source": [
    "### Exercise 1.4 Find who won the most grand slam tournaments between 2000 and 2019. Plot a bar chart with this information.\n"
   ]
  },
  {
   "cell_type": "code",
   "execution_count": 151,
   "metadata": {
    "metadata": {}
   },
   "outputs": [
    {
     "data": {
      "text/plain": [
       "winner_name\n",
       "Serena Williams    22\n",
       "Roger Federer      20\n",
       "Rafael Nadal       19\n",
       "Novak Djokovic     16\n",
       "Justine Henin       7\n",
       "Name: count, dtype: int64"
      ]
     },
     "execution_count": 151,
     "metadata": {},
     "output_type": "execute_result"
    }
   ],
   "source": [
    "gs_top_5 = gs_df['winner_name'].value_counts().head(5)\n",
    "gs_top_5"
   ]
  },
  {
   "cell_type": "markdown",
   "metadata": {},
   "source": [
    "Now let's extract the names and number of weeks for each player."
   ]
  },
  {
   "cell_type": "code",
   "execution_count": 152,
   "metadata": {
    "metadata": {}
   },
   "outputs": [],
   "source": [
    "gs_top_players = list(gs_top_5.index)\n",
    "gs_top_nums = gs_top_5.values"
   ]
  },
  {
   "cell_type": "code",
   "execution_count": 153,
   "metadata": {
    "metadata": {}
   },
   "outputs": [
    {
     "data": {
      "application/vnd.plotly.v1+json": {
       "config": {
        "plotlyServerURL": "https://plot.ly"
       },
       "data": [
        {
         "type": "bar",
         "x": [
          "Serena Williams",
          "Roger Federer",
          "Rafael Nadal",
          "Novak Djokovic",
          "Justine Henin"
         ],
         "y": [
          22,
          20,
          19,
          16,
          7
         ]
        }
       ],
       "layout": {
        "template": {
         "data": {
          "bar": [
           {
            "error_x": {
             "color": "#f2f5fa"
            },
            "error_y": {
             "color": "#f2f5fa"
            },
            "marker": {
             "line": {
              "color": "rgb(17,17,17)",
              "width": 0.5
             },
             "pattern": {
              "fillmode": "overlay",
              "size": 10,
              "solidity": 0.2
             }
            },
            "type": "bar"
           }
          ],
          "barpolar": [
           {
            "marker": {
             "line": {
              "color": "rgb(17,17,17)",
              "width": 0.5
             },
             "pattern": {
              "fillmode": "overlay",
              "size": 10,
              "solidity": 0.2
             }
            },
            "type": "barpolar"
           }
          ],
          "carpet": [
           {
            "aaxis": {
             "endlinecolor": "#A2B1C6",
             "gridcolor": "#506784",
             "linecolor": "#506784",
             "minorgridcolor": "#506784",
             "startlinecolor": "#A2B1C6"
            },
            "baxis": {
             "endlinecolor": "#A2B1C6",
             "gridcolor": "#506784",
             "linecolor": "#506784",
             "minorgridcolor": "#506784",
             "startlinecolor": "#A2B1C6"
            },
            "type": "carpet"
           }
          ],
          "choropleth": [
           {
            "colorbar": {
             "outlinewidth": 0,
             "ticks": ""
            },
            "type": "choropleth"
           }
          ],
          "contour": [
           {
            "colorbar": {
             "outlinewidth": 0,
             "ticks": ""
            },
            "colorscale": [
             [
              0,
              "#0d0887"
             ],
             [
              0.1111111111111111,
              "#46039f"
             ],
             [
              0.2222222222222222,
              "#7201a8"
             ],
             [
              0.3333333333333333,
              "#9c179e"
             ],
             [
              0.4444444444444444,
              "#bd3786"
             ],
             [
              0.5555555555555556,
              "#d8576b"
             ],
             [
              0.6666666666666666,
              "#ed7953"
             ],
             [
              0.7777777777777778,
              "#fb9f3a"
             ],
             [
              0.8888888888888888,
              "#fdca26"
             ],
             [
              1,
              "#f0f921"
             ]
            ],
            "type": "contour"
           }
          ],
          "contourcarpet": [
           {
            "colorbar": {
             "outlinewidth": 0,
             "ticks": ""
            },
            "type": "contourcarpet"
           }
          ],
          "heatmap": [
           {
            "colorbar": {
             "outlinewidth": 0,
             "ticks": ""
            },
            "colorscale": [
             [
              0,
              "#0d0887"
             ],
             [
              0.1111111111111111,
              "#46039f"
             ],
             [
              0.2222222222222222,
              "#7201a8"
             ],
             [
              0.3333333333333333,
              "#9c179e"
             ],
             [
              0.4444444444444444,
              "#bd3786"
             ],
             [
              0.5555555555555556,
              "#d8576b"
             ],
             [
              0.6666666666666666,
              "#ed7953"
             ],
             [
              0.7777777777777778,
              "#fb9f3a"
             ],
             [
              0.8888888888888888,
              "#fdca26"
             ],
             [
              1,
              "#f0f921"
             ]
            ],
            "type": "heatmap"
           }
          ],
          "heatmapgl": [
           {
            "colorbar": {
             "outlinewidth": 0,
             "ticks": ""
            },
            "colorscale": [
             [
              0,
              "#0d0887"
             ],
             [
              0.1111111111111111,
              "#46039f"
             ],
             [
              0.2222222222222222,
              "#7201a8"
             ],
             [
              0.3333333333333333,
              "#9c179e"
             ],
             [
              0.4444444444444444,
              "#bd3786"
             ],
             [
              0.5555555555555556,
              "#d8576b"
             ],
             [
              0.6666666666666666,
              "#ed7953"
             ],
             [
              0.7777777777777778,
              "#fb9f3a"
             ],
             [
              0.8888888888888888,
              "#fdca26"
             ],
             [
              1,
              "#f0f921"
             ]
            ],
            "type": "heatmapgl"
           }
          ],
          "histogram": [
           {
            "marker": {
             "pattern": {
              "fillmode": "overlay",
              "size": 10,
              "solidity": 0.2
             }
            },
            "type": "histogram"
           }
          ],
          "histogram2d": [
           {
            "colorbar": {
             "outlinewidth": 0,
             "ticks": ""
            },
            "colorscale": [
             [
              0,
              "#0d0887"
             ],
             [
              0.1111111111111111,
              "#46039f"
             ],
             [
              0.2222222222222222,
              "#7201a8"
             ],
             [
              0.3333333333333333,
              "#9c179e"
             ],
             [
              0.4444444444444444,
              "#bd3786"
             ],
             [
              0.5555555555555556,
              "#d8576b"
             ],
             [
              0.6666666666666666,
              "#ed7953"
             ],
             [
              0.7777777777777778,
              "#fb9f3a"
             ],
             [
              0.8888888888888888,
              "#fdca26"
             ],
             [
              1,
              "#f0f921"
             ]
            ],
            "type": "histogram2d"
           }
          ],
          "histogram2dcontour": [
           {
            "colorbar": {
             "outlinewidth": 0,
             "ticks": ""
            },
            "colorscale": [
             [
              0,
              "#0d0887"
             ],
             [
              0.1111111111111111,
              "#46039f"
             ],
             [
              0.2222222222222222,
              "#7201a8"
             ],
             [
              0.3333333333333333,
              "#9c179e"
             ],
             [
              0.4444444444444444,
              "#bd3786"
             ],
             [
              0.5555555555555556,
              "#d8576b"
             ],
             [
              0.6666666666666666,
              "#ed7953"
             ],
             [
              0.7777777777777778,
              "#fb9f3a"
             ],
             [
              0.8888888888888888,
              "#fdca26"
             ],
             [
              1,
              "#f0f921"
             ]
            ],
            "type": "histogram2dcontour"
           }
          ],
          "mesh3d": [
           {
            "colorbar": {
             "outlinewidth": 0,
             "ticks": ""
            },
            "type": "mesh3d"
           }
          ],
          "parcoords": [
           {
            "line": {
             "colorbar": {
              "outlinewidth": 0,
              "ticks": ""
             }
            },
            "type": "parcoords"
           }
          ],
          "pie": [
           {
            "automargin": true,
            "type": "pie"
           }
          ],
          "scatter": [
           {
            "marker": {
             "line": {
              "color": "#283442"
             }
            },
            "type": "scatter"
           }
          ],
          "scatter3d": [
           {
            "line": {
             "colorbar": {
              "outlinewidth": 0,
              "ticks": ""
             }
            },
            "marker": {
             "colorbar": {
              "outlinewidth": 0,
              "ticks": ""
             }
            },
            "type": "scatter3d"
           }
          ],
          "scattercarpet": [
           {
            "marker": {
             "colorbar": {
              "outlinewidth": 0,
              "ticks": ""
             }
            },
            "type": "scattercarpet"
           }
          ],
          "scattergeo": [
           {
            "marker": {
             "colorbar": {
              "outlinewidth": 0,
              "ticks": ""
             }
            },
            "type": "scattergeo"
           }
          ],
          "scattergl": [
           {
            "marker": {
             "line": {
              "color": "#283442"
             }
            },
            "type": "scattergl"
           }
          ],
          "scattermapbox": [
           {
            "marker": {
             "colorbar": {
              "outlinewidth": 0,
              "ticks": ""
             }
            },
            "type": "scattermapbox"
           }
          ],
          "scatterpolar": [
           {
            "marker": {
             "colorbar": {
              "outlinewidth": 0,
              "ticks": ""
             }
            },
            "type": "scatterpolar"
           }
          ],
          "scatterpolargl": [
           {
            "marker": {
             "colorbar": {
              "outlinewidth": 0,
              "ticks": ""
             }
            },
            "type": "scatterpolargl"
           }
          ],
          "scatterternary": [
           {
            "marker": {
             "colorbar": {
              "outlinewidth": 0,
              "ticks": ""
             }
            },
            "type": "scatterternary"
           }
          ],
          "surface": [
           {
            "colorbar": {
             "outlinewidth": 0,
             "ticks": ""
            },
            "colorscale": [
             [
              0,
              "#0d0887"
             ],
             [
              0.1111111111111111,
              "#46039f"
             ],
             [
              0.2222222222222222,
              "#7201a8"
             ],
             [
              0.3333333333333333,
              "#9c179e"
             ],
             [
              0.4444444444444444,
              "#bd3786"
             ],
             [
              0.5555555555555556,
              "#d8576b"
             ],
             [
              0.6666666666666666,
              "#ed7953"
             ],
             [
              0.7777777777777778,
              "#fb9f3a"
             ],
             [
              0.8888888888888888,
              "#fdca26"
             ],
             [
              1,
              "#f0f921"
             ]
            ],
            "type": "surface"
           }
          ],
          "table": [
           {
            "cells": {
             "fill": {
              "color": "#506784"
             },
             "line": {
              "color": "rgb(17,17,17)"
             }
            },
            "header": {
             "fill": {
              "color": "#2a3f5f"
             },
             "line": {
              "color": "rgb(17,17,17)"
             }
            },
            "type": "table"
           }
          ]
         },
         "layout": {
          "annotationdefaults": {
           "arrowcolor": "#f2f5fa",
           "arrowhead": 0,
           "arrowwidth": 1
          },
          "autotypenumbers": "strict",
          "coloraxis": {
           "colorbar": {
            "outlinewidth": 0,
            "ticks": ""
           }
          },
          "colorscale": {
           "diverging": [
            [
             0,
             "#8e0152"
            ],
            [
             0.1,
             "#c51b7d"
            ],
            [
             0.2,
             "#de77ae"
            ],
            [
             0.3,
             "#f1b6da"
            ],
            [
             0.4,
             "#fde0ef"
            ],
            [
             0.5,
             "#f7f7f7"
            ],
            [
             0.6,
             "#e6f5d0"
            ],
            [
             0.7,
             "#b8e186"
            ],
            [
             0.8,
             "#7fbc41"
            ],
            [
             0.9,
             "#4d9221"
            ],
            [
             1,
             "#276419"
            ]
           ],
           "sequential": [
            [
             0,
             "#0d0887"
            ],
            [
             0.1111111111111111,
             "#46039f"
            ],
            [
             0.2222222222222222,
             "#7201a8"
            ],
            [
             0.3333333333333333,
             "#9c179e"
            ],
            [
             0.4444444444444444,
             "#bd3786"
            ],
            [
             0.5555555555555556,
             "#d8576b"
            ],
            [
             0.6666666666666666,
             "#ed7953"
            ],
            [
             0.7777777777777778,
             "#fb9f3a"
            ],
            [
             0.8888888888888888,
             "#fdca26"
            ],
            [
             1,
             "#f0f921"
            ]
           ],
           "sequentialminus": [
            [
             0,
             "#0d0887"
            ],
            [
             0.1111111111111111,
             "#46039f"
            ],
            [
             0.2222222222222222,
             "#7201a8"
            ],
            [
             0.3333333333333333,
             "#9c179e"
            ],
            [
             0.4444444444444444,
             "#bd3786"
            ],
            [
             0.5555555555555556,
             "#d8576b"
            ],
            [
             0.6666666666666666,
             "#ed7953"
            ],
            [
             0.7777777777777778,
             "#fb9f3a"
            ],
            [
             0.8888888888888888,
             "#fdca26"
            ],
            [
             1,
             "#f0f921"
            ]
           ]
          },
          "colorway": [
           "#636efa",
           "#EF553B",
           "#00cc96",
           "#ab63fa",
           "#FFA15A",
           "#19d3f3",
           "#FF6692",
           "#B6E880",
           "#FF97FF",
           "#FECB52"
          ],
          "font": {
           "color": "#f2f5fa"
          },
          "geo": {
           "bgcolor": "rgb(17,17,17)",
           "lakecolor": "rgb(17,17,17)",
           "landcolor": "rgb(17,17,17)",
           "showlakes": true,
           "showland": true,
           "subunitcolor": "#506784"
          },
          "hoverlabel": {
           "align": "left"
          },
          "hovermode": "closest",
          "mapbox": {
           "style": "dark"
          },
          "paper_bgcolor": "rgb(17,17,17)",
          "plot_bgcolor": "rgb(17,17,17)",
          "polar": {
           "angularaxis": {
            "gridcolor": "#506784",
            "linecolor": "#506784",
            "ticks": ""
           },
           "bgcolor": "rgb(17,17,17)",
           "radialaxis": {
            "gridcolor": "#506784",
            "linecolor": "#506784",
            "ticks": ""
           }
          },
          "scene": {
           "xaxis": {
            "backgroundcolor": "rgb(17,17,17)",
            "gridcolor": "#506784",
            "gridwidth": 2,
            "linecolor": "#506784",
            "showbackground": true,
            "ticks": "",
            "zerolinecolor": "#C8D4E3"
           },
           "yaxis": {
            "backgroundcolor": "rgb(17,17,17)",
            "gridcolor": "#506784",
            "gridwidth": 2,
            "linecolor": "#506784",
            "showbackground": true,
            "ticks": "",
            "zerolinecolor": "#C8D4E3"
           },
           "zaxis": {
            "backgroundcolor": "rgb(17,17,17)",
            "gridcolor": "#506784",
            "gridwidth": 2,
            "linecolor": "#506784",
            "showbackground": true,
            "ticks": "",
            "zerolinecolor": "#C8D4E3"
           }
          },
          "shapedefaults": {
           "line": {
            "color": "#f2f5fa"
           }
          },
          "sliderdefaults": {
           "bgcolor": "#C8D4E3",
           "bordercolor": "rgb(17,17,17)",
           "borderwidth": 1,
           "tickwidth": 0
          },
          "ternary": {
           "aaxis": {
            "gridcolor": "#506784",
            "linecolor": "#506784",
            "ticks": ""
           },
           "baxis": {
            "gridcolor": "#506784",
            "linecolor": "#506784",
            "ticks": ""
           },
           "bgcolor": "rgb(17,17,17)",
           "caxis": {
            "gridcolor": "#506784",
            "linecolor": "#506784",
            "ticks": ""
           }
          },
          "title": {
           "x": 0.05
          },
          "updatemenudefaults": {
           "bgcolor": "#506784",
           "borderwidth": 0
          },
          "xaxis": {
           "automargin": true,
           "gridcolor": "#283442",
           "linecolor": "#506784",
           "ticks": "",
           "title": {
            "standoff": 15
           },
           "zerolinecolor": "#283442",
           "zerolinewidth": 2
          },
          "yaxis": {
           "automargin": true,
           "gridcolor": "#283442",
           "linecolor": "#506784",
           "ticks": "",
           "title": {
            "standoff": 15
           },
           "zerolinecolor": "#283442",
           "zerolinewidth": 2
          }
         }
        },
        "title": {
         "text": "Grand Slam Wins by Top 5 Tennis Players"
        },
        "xaxis": {
         "title": {
          "text": "Players"
         }
        },
        "yaxis": {
         "title": {
          "text": "Grand Slam Wins between 2000-2019"
         }
        }
       }
      }
     },
     "metadata": {},
     "output_type": "display_data"
    }
   ],
   "source": [
    "fig = go.Figure([go.Bar(x=gs_top_players, y=gs_top_nums)])\n",
    "\n",
    "fig.update_layout(\n",
    "    title='Grand Slam Wins by Top 5 Tennis Players',\n",
    "    xaxis_title='Players',\n",
    "    yaxis_title='Grand Slam Wins between 2000-2019',\n",
    "    template='plotly_dark'  \n",
    ")\n",
    "\n",
    "fig.show()"
   ]
  },
  {
   "cell_type": "markdown",
   "metadata": {},
   "source": [
    "### Exercise 1.5: Make a bar chart showing which 5 players won the most Australian Opens between 2000 and 2019."
   ]
  },
  {
   "cell_type": "markdown",
   "metadata": {},
   "source": [
    "The solution is very similar. Note that we have to add the condition that the tournament name is `Australian Open`. Here, we just filter inline."
   ]
  },
  {
   "cell_type": "code",
   "execution_count": 156,
   "metadata": {
    "metadata": {}
   },
   "outputs": [
    {
     "data": {
      "application/vnd.plotly.v1+json": {
       "config": {
        "plotlyServerURL": "https://plot.ly"
       },
       "data": [
        {
         "type": "bar",
         "x": [
          "Serena Williams",
          "Novak Djokovic",
          "Roger Federer",
          "Andre Agassi",
          "Victoria Azarenka"
         ],
         "y": [
          7,
          7,
          6,
          3,
          2
         ]
        }
       ],
       "layout": {
        "template": {
         "data": {
          "bar": [
           {
            "error_x": {
             "color": "#f2f5fa"
            },
            "error_y": {
             "color": "#f2f5fa"
            },
            "marker": {
             "line": {
              "color": "rgb(17,17,17)",
              "width": 0.5
             },
             "pattern": {
              "fillmode": "overlay",
              "size": 10,
              "solidity": 0.2
             }
            },
            "type": "bar"
           }
          ],
          "barpolar": [
           {
            "marker": {
             "line": {
              "color": "rgb(17,17,17)",
              "width": 0.5
             },
             "pattern": {
              "fillmode": "overlay",
              "size": 10,
              "solidity": 0.2
             }
            },
            "type": "barpolar"
           }
          ],
          "carpet": [
           {
            "aaxis": {
             "endlinecolor": "#A2B1C6",
             "gridcolor": "#506784",
             "linecolor": "#506784",
             "minorgridcolor": "#506784",
             "startlinecolor": "#A2B1C6"
            },
            "baxis": {
             "endlinecolor": "#A2B1C6",
             "gridcolor": "#506784",
             "linecolor": "#506784",
             "minorgridcolor": "#506784",
             "startlinecolor": "#A2B1C6"
            },
            "type": "carpet"
           }
          ],
          "choropleth": [
           {
            "colorbar": {
             "outlinewidth": 0,
             "ticks": ""
            },
            "type": "choropleth"
           }
          ],
          "contour": [
           {
            "colorbar": {
             "outlinewidth": 0,
             "ticks": ""
            },
            "colorscale": [
             [
              0,
              "#0d0887"
             ],
             [
              0.1111111111111111,
              "#46039f"
             ],
             [
              0.2222222222222222,
              "#7201a8"
             ],
             [
              0.3333333333333333,
              "#9c179e"
             ],
             [
              0.4444444444444444,
              "#bd3786"
             ],
             [
              0.5555555555555556,
              "#d8576b"
             ],
             [
              0.6666666666666666,
              "#ed7953"
             ],
             [
              0.7777777777777778,
              "#fb9f3a"
             ],
             [
              0.8888888888888888,
              "#fdca26"
             ],
             [
              1,
              "#f0f921"
             ]
            ],
            "type": "contour"
           }
          ],
          "contourcarpet": [
           {
            "colorbar": {
             "outlinewidth": 0,
             "ticks": ""
            },
            "type": "contourcarpet"
           }
          ],
          "heatmap": [
           {
            "colorbar": {
             "outlinewidth": 0,
             "ticks": ""
            },
            "colorscale": [
             [
              0,
              "#0d0887"
             ],
             [
              0.1111111111111111,
              "#46039f"
             ],
             [
              0.2222222222222222,
              "#7201a8"
             ],
             [
              0.3333333333333333,
              "#9c179e"
             ],
             [
              0.4444444444444444,
              "#bd3786"
             ],
             [
              0.5555555555555556,
              "#d8576b"
             ],
             [
              0.6666666666666666,
              "#ed7953"
             ],
             [
              0.7777777777777778,
              "#fb9f3a"
             ],
             [
              0.8888888888888888,
              "#fdca26"
             ],
             [
              1,
              "#f0f921"
             ]
            ],
            "type": "heatmap"
           }
          ],
          "heatmapgl": [
           {
            "colorbar": {
             "outlinewidth": 0,
             "ticks": ""
            },
            "colorscale": [
             [
              0,
              "#0d0887"
             ],
             [
              0.1111111111111111,
              "#46039f"
             ],
             [
              0.2222222222222222,
              "#7201a8"
             ],
             [
              0.3333333333333333,
              "#9c179e"
             ],
             [
              0.4444444444444444,
              "#bd3786"
             ],
             [
              0.5555555555555556,
              "#d8576b"
             ],
             [
              0.6666666666666666,
              "#ed7953"
             ],
             [
              0.7777777777777778,
              "#fb9f3a"
             ],
             [
              0.8888888888888888,
              "#fdca26"
             ],
             [
              1,
              "#f0f921"
             ]
            ],
            "type": "heatmapgl"
           }
          ],
          "histogram": [
           {
            "marker": {
             "pattern": {
              "fillmode": "overlay",
              "size": 10,
              "solidity": 0.2
             }
            },
            "type": "histogram"
           }
          ],
          "histogram2d": [
           {
            "colorbar": {
             "outlinewidth": 0,
             "ticks": ""
            },
            "colorscale": [
             [
              0,
              "#0d0887"
             ],
             [
              0.1111111111111111,
              "#46039f"
             ],
             [
              0.2222222222222222,
              "#7201a8"
             ],
             [
              0.3333333333333333,
              "#9c179e"
             ],
             [
              0.4444444444444444,
              "#bd3786"
             ],
             [
              0.5555555555555556,
              "#d8576b"
             ],
             [
              0.6666666666666666,
              "#ed7953"
             ],
             [
              0.7777777777777778,
              "#fb9f3a"
             ],
             [
              0.8888888888888888,
              "#fdca26"
             ],
             [
              1,
              "#f0f921"
             ]
            ],
            "type": "histogram2d"
           }
          ],
          "histogram2dcontour": [
           {
            "colorbar": {
             "outlinewidth": 0,
             "ticks": ""
            },
            "colorscale": [
             [
              0,
              "#0d0887"
             ],
             [
              0.1111111111111111,
              "#46039f"
             ],
             [
              0.2222222222222222,
              "#7201a8"
             ],
             [
              0.3333333333333333,
              "#9c179e"
             ],
             [
              0.4444444444444444,
              "#bd3786"
             ],
             [
              0.5555555555555556,
              "#d8576b"
             ],
             [
              0.6666666666666666,
              "#ed7953"
             ],
             [
              0.7777777777777778,
              "#fb9f3a"
             ],
             [
              0.8888888888888888,
              "#fdca26"
             ],
             [
              1,
              "#f0f921"
             ]
            ],
            "type": "histogram2dcontour"
           }
          ],
          "mesh3d": [
           {
            "colorbar": {
             "outlinewidth": 0,
             "ticks": ""
            },
            "type": "mesh3d"
           }
          ],
          "parcoords": [
           {
            "line": {
             "colorbar": {
              "outlinewidth": 0,
              "ticks": ""
             }
            },
            "type": "parcoords"
           }
          ],
          "pie": [
           {
            "automargin": true,
            "type": "pie"
           }
          ],
          "scatter": [
           {
            "marker": {
             "line": {
              "color": "#283442"
             }
            },
            "type": "scatter"
           }
          ],
          "scatter3d": [
           {
            "line": {
             "colorbar": {
              "outlinewidth": 0,
              "ticks": ""
             }
            },
            "marker": {
             "colorbar": {
              "outlinewidth": 0,
              "ticks": ""
             }
            },
            "type": "scatter3d"
           }
          ],
          "scattercarpet": [
           {
            "marker": {
             "colorbar": {
              "outlinewidth": 0,
              "ticks": ""
             }
            },
            "type": "scattercarpet"
           }
          ],
          "scattergeo": [
           {
            "marker": {
             "colorbar": {
              "outlinewidth": 0,
              "ticks": ""
             }
            },
            "type": "scattergeo"
           }
          ],
          "scattergl": [
           {
            "marker": {
             "line": {
              "color": "#283442"
             }
            },
            "type": "scattergl"
           }
          ],
          "scattermapbox": [
           {
            "marker": {
             "colorbar": {
              "outlinewidth": 0,
              "ticks": ""
             }
            },
            "type": "scattermapbox"
           }
          ],
          "scatterpolar": [
           {
            "marker": {
             "colorbar": {
              "outlinewidth": 0,
              "ticks": ""
             }
            },
            "type": "scatterpolar"
           }
          ],
          "scatterpolargl": [
           {
            "marker": {
             "colorbar": {
              "outlinewidth": 0,
              "ticks": ""
             }
            },
            "type": "scatterpolargl"
           }
          ],
          "scatterternary": [
           {
            "marker": {
             "colorbar": {
              "outlinewidth": 0,
              "ticks": ""
             }
            },
            "type": "scatterternary"
           }
          ],
          "surface": [
           {
            "colorbar": {
             "outlinewidth": 0,
             "ticks": ""
            },
            "colorscale": [
             [
              0,
              "#0d0887"
             ],
             [
              0.1111111111111111,
              "#46039f"
             ],
             [
              0.2222222222222222,
              "#7201a8"
             ],
             [
              0.3333333333333333,
              "#9c179e"
             ],
             [
              0.4444444444444444,
              "#bd3786"
             ],
             [
              0.5555555555555556,
              "#d8576b"
             ],
             [
              0.6666666666666666,
              "#ed7953"
             ],
             [
              0.7777777777777778,
              "#fb9f3a"
             ],
             [
              0.8888888888888888,
              "#fdca26"
             ],
             [
              1,
              "#f0f921"
             ]
            ],
            "type": "surface"
           }
          ],
          "table": [
           {
            "cells": {
             "fill": {
              "color": "#506784"
             },
             "line": {
              "color": "rgb(17,17,17)"
             }
            },
            "header": {
             "fill": {
              "color": "#2a3f5f"
             },
             "line": {
              "color": "rgb(17,17,17)"
             }
            },
            "type": "table"
           }
          ]
         },
         "layout": {
          "annotationdefaults": {
           "arrowcolor": "#f2f5fa",
           "arrowhead": 0,
           "arrowwidth": 1
          },
          "autotypenumbers": "strict",
          "coloraxis": {
           "colorbar": {
            "outlinewidth": 0,
            "ticks": ""
           }
          },
          "colorscale": {
           "diverging": [
            [
             0,
             "#8e0152"
            ],
            [
             0.1,
             "#c51b7d"
            ],
            [
             0.2,
             "#de77ae"
            ],
            [
             0.3,
             "#f1b6da"
            ],
            [
             0.4,
             "#fde0ef"
            ],
            [
             0.5,
             "#f7f7f7"
            ],
            [
             0.6,
             "#e6f5d0"
            ],
            [
             0.7,
             "#b8e186"
            ],
            [
             0.8,
             "#7fbc41"
            ],
            [
             0.9,
             "#4d9221"
            ],
            [
             1,
             "#276419"
            ]
           ],
           "sequential": [
            [
             0,
             "#0d0887"
            ],
            [
             0.1111111111111111,
             "#46039f"
            ],
            [
             0.2222222222222222,
             "#7201a8"
            ],
            [
             0.3333333333333333,
             "#9c179e"
            ],
            [
             0.4444444444444444,
             "#bd3786"
            ],
            [
             0.5555555555555556,
             "#d8576b"
            ],
            [
             0.6666666666666666,
             "#ed7953"
            ],
            [
             0.7777777777777778,
             "#fb9f3a"
            ],
            [
             0.8888888888888888,
             "#fdca26"
            ],
            [
             1,
             "#f0f921"
            ]
           ],
           "sequentialminus": [
            [
             0,
             "#0d0887"
            ],
            [
             0.1111111111111111,
             "#46039f"
            ],
            [
             0.2222222222222222,
             "#7201a8"
            ],
            [
             0.3333333333333333,
             "#9c179e"
            ],
            [
             0.4444444444444444,
             "#bd3786"
            ],
            [
             0.5555555555555556,
             "#d8576b"
            ],
            [
             0.6666666666666666,
             "#ed7953"
            ],
            [
             0.7777777777777778,
             "#fb9f3a"
            ],
            [
             0.8888888888888888,
             "#fdca26"
            ],
            [
             1,
             "#f0f921"
            ]
           ]
          },
          "colorway": [
           "#636efa",
           "#EF553B",
           "#00cc96",
           "#ab63fa",
           "#FFA15A",
           "#19d3f3",
           "#FF6692",
           "#B6E880",
           "#FF97FF",
           "#FECB52"
          ],
          "font": {
           "color": "#f2f5fa"
          },
          "geo": {
           "bgcolor": "rgb(17,17,17)",
           "lakecolor": "rgb(17,17,17)",
           "landcolor": "rgb(17,17,17)",
           "showlakes": true,
           "showland": true,
           "subunitcolor": "#506784"
          },
          "hoverlabel": {
           "align": "left"
          },
          "hovermode": "closest",
          "mapbox": {
           "style": "dark"
          },
          "paper_bgcolor": "rgb(17,17,17)",
          "plot_bgcolor": "rgb(17,17,17)",
          "polar": {
           "angularaxis": {
            "gridcolor": "#506784",
            "linecolor": "#506784",
            "ticks": ""
           },
           "bgcolor": "rgb(17,17,17)",
           "radialaxis": {
            "gridcolor": "#506784",
            "linecolor": "#506784",
            "ticks": ""
           }
          },
          "scene": {
           "xaxis": {
            "backgroundcolor": "rgb(17,17,17)",
            "gridcolor": "#506784",
            "gridwidth": 2,
            "linecolor": "#506784",
            "showbackground": true,
            "ticks": "",
            "zerolinecolor": "#C8D4E3"
           },
           "yaxis": {
            "backgroundcolor": "rgb(17,17,17)",
            "gridcolor": "#506784",
            "gridwidth": 2,
            "linecolor": "#506784",
            "showbackground": true,
            "ticks": "",
            "zerolinecolor": "#C8D4E3"
           },
           "zaxis": {
            "backgroundcolor": "rgb(17,17,17)",
            "gridcolor": "#506784",
            "gridwidth": 2,
            "linecolor": "#506784",
            "showbackground": true,
            "ticks": "",
            "zerolinecolor": "#C8D4E3"
           }
          },
          "shapedefaults": {
           "line": {
            "color": "#f2f5fa"
           }
          },
          "sliderdefaults": {
           "bgcolor": "#C8D4E3",
           "bordercolor": "rgb(17,17,17)",
           "borderwidth": 1,
           "tickwidth": 0
          },
          "ternary": {
           "aaxis": {
            "gridcolor": "#506784",
            "linecolor": "#506784",
            "ticks": ""
           },
           "baxis": {
            "gridcolor": "#506784",
            "linecolor": "#506784",
            "ticks": ""
           },
           "bgcolor": "rgb(17,17,17)",
           "caxis": {
            "gridcolor": "#506784",
            "linecolor": "#506784",
            "ticks": ""
           }
          },
          "title": {
           "x": 0.05
          },
          "updatemenudefaults": {
           "bgcolor": "#506784",
           "borderwidth": 0
          },
          "xaxis": {
           "automargin": true,
           "gridcolor": "#283442",
           "linecolor": "#506784",
           "ticks": "",
           "title": {
            "standoff": 15
           },
           "zerolinecolor": "#283442",
           "zerolinewidth": 2
          },
          "yaxis": {
           "automargin": true,
           "gridcolor": "#283442",
           "linecolor": "#506784",
           "ticks": "",
           "title": {
            "standoff": 15
           },
           "zerolinecolor": "#283442",
           "zerolinewidth": 2
          }
         }
        },
        "title": {
         "text": "Australian Open Wins by Top 5 Tennis Players"
        },
        "xaxis": {
         "title": {
          "text": "Players"
         }
        },
        "yaxis": {
         "title": {
          "text": "Australian Open Wins between 2000-2019"
         }
        }
       }
      }
     },
     "metadata": {},
     "output_type": "display_data"
    }
   ],
   "source": [
    "# Making the grouped series\n",
    "most_aus = gs_df[(gs_df['tourney_name'] == 'Australian Open')].value_counts('winner_name').head(5)\n",
    "\n",
    "# Getting the players and number of wins \n",
    "players_aus = list(most_aus.index)\n",
    "num_aus = most_aus.values\n",
    "\n",
    "# Plotting the bar chart\n",
    "fig = go.Figure([go.Bar(x=players_aus, y=num_aus)])\n",
    "\n",
    "fig.update_layout(\n",
    "    title='Australian Open Wins by Top 5 Tennis Players',\n",
    "    xaxis_title='Players',\n",
    "    yaxis_title='Australian Open Wins between 2000-2019',\n",
    "    template='plotly_dark'  \n",
    ")\n",
    "\n",
    "fig.show()"
   ]
  },
  {
   "cell_type": "markdown",
   "metadata": {},
   "source": [
    "Serena Williams comes out on top again! It's interesting note that while Federer won more grandslams than Djokovic, he won less Australian Opens. It could be interesting to investigate what factors might cause this, for example court type. "
   ]
  },
  {
   "cell_type": "markdown",
   "metadata": {},
   "source": [
    "### Exercise 1.5: How young were the top winners when they won a grand slam for the first time?"
   ]
  },
  {
   "cell_type": "markdown",
   "metadata": {},
   "source": [
    "Recall the list of top players (by number of grandslams won between 2000 and 2019), and the number of grandslam's they won in that period."
   ]
  },
  {
   "cell_type": "code",
   "execution_count": 157,
   "metadata": {
    "metadata": {}
   },
   "outputs": [
    {
     "name": "stdout",
     "output_type": "stream",
     "text": [
      "['Serena Williams', 'Roger Federer', 'Rafael Nadal', 'Novak Djokovic', 'Justine Henin']\n",
      "[22 20 19 16  7]\n"
     ]
    }
   ],
   "source": [
    "print(gs_top_players)\n",
    "print(gs_top_nums)"
   ]
  },
  {
   "cell_type": "markdown",
   "metadata": {},
   "source": [
    "Let's create a dataset with only the top 5."
   ]
  },
  {
   "cell_type": "code",
   "execution_count": 163,
   "metadata": {
    "metadata": {}
   },
   "outputs": [],
   "source": [
    "gs_df_top_5 = gs_df[gs_df['winner_name'].isin(gs_top_players)]"
   ]
  },
  {
   "cell_type": "markdown",
   "metadata": {},
   "source": [
    "Now, with the `groupby` method, we can perform operations on a dataframe on subgroups of the full data.\n",
    "Like, for example, if we wanted to know the minimum age for each player separately, we could do:"
   ]
  },
  {
   "cell_type": "code",
   "execution_count": 165,
   "metadata": {
    "metadata": {}
   },
   "outputs": [
    {
     "data": {
      "text/plain": [
       "winner_name\n",
       "Justine Henin      20.9\n",
       "Novak Djokovic     20.6\n",
       "Rafael Nadal       18.9\n",
       "Roger Federer      21.8\n",
       "Serena Williams    20.6\n",
       "Name: winner_age, dtype: float64"
      ]
     },
     "execution_count": 165,
     "metadata": {},
     "output_type": "execute_result"
    }
   ],
   "source": [
    "gs_df_top_5.groupby('winner_name')['winner_age'].min()"
   ]
  },
  {
   "cell_type": "markdown",
   "metadata": {},
   "source": [
    "*Fancier solution*  \n",
    "We can also do it slightly more advanced, by getting the index of each row of the youngest win first.\n",
    "We can then use those indexes to retrieve the relevant rows from the dataframe and present some nice additional information."
   ]
  },
  {
   "cell_type": "code",
   "execution_count": 166,
   "metadata": {
    "metadata": {}
   },
   "outputs": [],
   "source": [
    "first_win_indices = gs_df_top_5.groupby('winner_name')['winner_age'].idxmin()\n"
   ]
  },
  {
   "cell_type": "markdown",
   "metadata": {},
   "source": [
    "Now we fetch the rows from the `gs_df` dataframe corresponding to these indices:"
   ]
  },
  {
   "cell_type": "code",
   "execution_count": 167,
   "metadata": {
    "metadata": {}
   },
   "outputs": [],
   "source": [
    "first_win_dates = gs_df.loc[first_win_indices]"
   ]
  },
  {
   "cell_type": "markdown",
   "metadata": {},
   "source": [
    "Now we can select the desired columns and see when the players' first grand slam wins were:"
   ]
  },
  {
   "cell_type": "code",
   "execution_count": 168,
   "metadata": {
    "metadata": {}
   },
   "outputs": [
    {
     "data": {
      "text/html": [
       "<div>\n",
       "<style scoped>\n",
       "    .dataframe tbody tr th:only-of-type {\n",
       "        vertical-align: middle;\n",
       "    }\n",
       "\n",
       "    .dataframe tbody tr th {\n",
       "        vertical-align: top;\n",
       "    }\n",
       "\n",
       "    .dataframe thead th {\n",
       "        text-align: right;\n",
       "    }\n",
       "</style>\n",
       "<table border=\"1\" class=\"dataframe\">\n",
       "  <thead>\n",
       "    <tr style=\"text-align: right;\">\n",
       "      <th></th>\n",
       "      <th>winner_name</th>\n",
       "      <th>tourney_date</th>\n",
       "      <th>winner_age</th>\n",
       "    </tr>\n",
       "  </thead>\n",
       "  <tbody>\n",
       "    <tr>\n",
       "      <th>291310</th>\n",
       "      <td>Justine Henin</td>\n",
       "      <td>2003-05-26</td>\n",
       "      <td>20.9</td>\n",
       "    </tr>\n",
       "    <tr>\n",
       "      <th>148716</th>\n",
       "      <td>Novak Djokovic</td>\n",
       "      <td>2008-01-14</td>\n",
       "      <td>20.6</td>\n",
       "    </tr>\n",
       "    <tr>\n",
       "      <th>138696</th>\n",
       "      <td>Rafael Nadal</td>\n",
       "      <td>2005-05-23</td>\n",
       "      <td>18.9</td>\n",
       "    </tr>\n",
       "    <tr>\n",
       "      <th>132331</th>\n",
       "      <td>Roger Federer</td>\n",
       "      <td>2003-06-23</td>\n",
       "      <td>21.8</td>\n",
       "    </tr>\n",
       "    <tr>\n",
       "      <th>288214</th>\n",
       "      <td>Serena Williams</td>\n",
       "      <td>2002-05-27</td>\n",
       "      <td>20.6</td>\n",
       "    </tr>\n",
       "  </tbody>\n",
       "</table>\n",
       "</div>"
      ],
      "text/plain": [
       "            winner_name tourney_date  winner_age\n",
       "291310    Justine Henin   2003-05-26        20.9\n",
       "148716   Novak Djokovic   2008-01-14        20.6\n",
       "138696     Rafael Nadal   2005-05-23        18.9\n",
       "132331    Roger Federer   2003-06-23        21.8\n",
       "288214  Serena Williams   2002-05-27        20.6"
      ]
     },
     "execution_count": 168,
     "metadata": {},
     "output_type": "execute_result"
    }
   ],
   "source": [
    "first_win_dates[['winner_name', 'tourney_date', 'winner_age']]"
   ]
  },
  {
   "cell_type": "markdown",
   "metadata": {},
   "source": [
    "# Section 2: BONUS: Analysing Streaks\n",
    "Through this section, we will be analysing grand slam winning streaks from the men's dataframe. (You can try it for yourself on the women's data later).\n",
    "\n",
    "Useful functions: \n",
    "\n",
    "https://pandas.pydata.org/docs/reference/api/pandas.DataFrame.shift.html \\\n",
    "https://pandas.pydata.org/docs/reference/api/pandas.DataFrame.eq.html \\\n",
    "https://pandas.pydata.org/docs/reference/api/pandas.DataFrame.cumsum.html \\\n",
    "https://pandas.pydata.org/docs/reference/api/pandas.Index.get_level_values.html\n",
    "\n",
    "## Question 1: Which Male Players had the Longest Grand Slam Winning Streaks?"
   ]
  },
  {
   "cell_type": "markdown",
   "metadata": {},
   "source": [
    "### Exercise 3.1: Filter the grand slams dataframe to only include male players"
   ]
  },
  {
   "cell_type": "code",
   "execution_count": 169,
   "metadata": {
    "metadata": {}
   },
   "outputs": [],
   "source": [
    "# Splitting the dataframe into male and female players\n",
    "gs_df_men = gs_df[gs_df['Tour'] == 'ATP']"
   ]
  },
  {
   "cell_type": "markdown",
   "metadata": {},
   "source": [
    "### Exercise 3.1: Shift the 'winner_name' column in the men's dataframe down by one using the shift function.\n",
    "\n",
    "Let's see what the shift function does to a column. First we check what the column looks like before applying the shift function."
   ]
  },
  {
   "cell_type": "code",
   "execution_count": 170,
   "metadata": {
    "metadata": {}
   },
   "outputs": [
    {
     "data": {
      "text/plain": [
       "122346    Gustavo Kuerten\n",
       "122473       Pete Sampras\n",
       "122600        Marat Safin\n",
       "122789       Andre Agassi\n",
       "125724    Gustavo Kuerten\n",
       "               ...       \n",
       "178509     Novak Djokovic\n",
       "179155     Novak Djokovic\n",
       "180347       Rafael Nadal\n",
       "180644     Novak Djokovic\n",
       "181195       Rafael Nadal\n",
       "Name: winner_name, Length: 80, dtype: object"
      ]
     },
     "execution_count": 170,
     "metadata": {},
     "output_type": "execute_result"
    }
   ],
   "source": [
    "# Checking the 'winner_name' column before applying the shift function\n",
    "gs_df_men['winner_name']"
   ]
  },
  {
   "cell_type": "code",
   "execution_count": 171,
   "metadata": {
    "metadata": {}
   },
   "outputs": [
    {
     "data": {
      "text/plain": [
       "122346               None\n",
       "122473    Gustavo Kuerten\n",
       "122600       Pete Sampras\n",
       "122789        Marat Safin\n",
       "125724       Andre Agassi\n",
       "               ...       \n",
       "178509     Novak Djokovic\n",
       "179155     Novak Djokovic\n",
       "180347     Novak Djokovic\n",
       "180644       Rafael Nadal\n",
       "181195     Novak Djokovic\n",
       "Name: winner_name, Length: 80, dtype: object"
      ]
     },
     "execution_count": 171,
     "metadata": {},
     "output_type": "execute_result"
    }
   ],
   "source": [
    "# Shifting the 'winner_name' column down by 1\n",
    "gs_df_men['winner_name'].shift()"
   ]
  },
  {
   "cell_type": "markdown",
   "metadata": {},
   "source": [
    "It seems to shist the whole column down by one. Notice that the index remains the same. This is important for comparing the shifted row to the original. \n",
    "\n",
    "Now let's see what the eq function does. \n",
    "\n",
    "### Exercise 3.2: Use the `eq` function to compare the shifted 'winner_name' to the original. What is the result? "
   ]
  },
  {
   "cell_type": "code",
   "execution_count": 172,
   "metadata": {
    "metadata": {}
   },
   "outputs": [
    {
     "data": {
      "text/plain": [
       "122346    False\n",
       "122473    False\n",
       "122600    False\n",
       "122789    False\n",
       "125724    False\n",
       "          ...  \n",
       "178509     True\n",
       "179155     True\n",
       "180347    False\n",
       "180644    False\n",
       "181195    False\n",
       "Name: winner_name, Length: 80, dtype: bool"
      ]
     },
     "execution_count": 172,
     "metadata": {},
     "output_type": "execute_result"
    }
   ],
   "source": [
    "gs_df_men['winner_name'].eq(gs_df_men['winner_name'].shift())"
   ]
  },
  {
   "cell_type": "markdown",
   "metadata": {},
   "source": [
    "The result is a boolean array indicating when the two columns are the same (True), and when they are not (False).\n",
    "\n",
    "### Exercise 3.3: How can we use these functions to determine grand slam winning streaks for each player?\n",
    "\n",
    "Hint: you might find it helpful to use the `cumsum` function, with which you can sum values in a boolean array (https://pandas.pydata.org/docs/dev/reference/api/pandas.DataFrame.cumsum.html). \n",
    "\n",
    "Hint: also see https://joshdevlin.com/blog/calculate-streaks-in-pandas/#:~:text=The%20first%20step%20in%20calculating,us%20which%20are%20not%20equal for a blog post on how to find streaks in a dataframe. "
   ]
  },
  {
   "cell_type": "markdown",
   "metadata": {},
   "source": [
    "#### Solution:\n",
    "\n",
    "We will solve this problem by first adding a `streak_indicator` column, that will be a boolean (as above) that indicates when the winning player is the same as in the shifted `winner_name` column. Then we will negate this column so that `False` indicates that the `winner_name` is the same as the previous `winner_name`. We can now apply the `cumsxum` function and create a new streak indicator column whose entries will be numbers that increment by 1 everytime a new streak is started. \n",
    "\\\n",
    "\\\n",
    "Finally we will group the dataframe by `winner_name` and `streak_indicator_num` (in that order), aggregating using the `size` function, to see how larger each group (i.e. each streak) is.\n",
    "\\\n",
    "\\\n",
    "After sorting these values, we can pick the top 5 to get the top 5 streaks and the players associated with them."
   ]
  },
  {
   "cell_type": "markdown",
   "metadata": {},
   "source": [
    "### Exercise 3.4: Apply your method to find the player with the 5 longest streaks, and the lenth of their streaks"
   ]
  },
  {
   "cell_type": "code",
   "execution_count": 173,
   "metadata": {
    "metadata": {}
   },
   "outputs": [],
   "source": [
    "# Sorting the rows by 'tourney_date'\n",
    "gs_df_men = gs_df_men.sort_values(by='tourney_date')"
   ]
  },
  {
   "cell_type": "code",
   "execution_count": 176,
   "metadata": {
    "metadata": {}
   },
   "outputs": [
    {
     "name": "stdout",
     "output_type": "stream",
     "text": [
      "Players with highest streaks are ['Novak Djokovic', 'Novak Djokovic', 'Rafael Nadal', 'Roger Federer', 'Roger Federer'], with streak(s) of [4, 3, 3, 3, 2], respectively.\n"
     ]
    }
   ],
   "source": [
    "# Creating a streak indicator column in the men's dataframe\n",
    "gs_df_men['streak_indicator_bool'] = gs_df_men['winner_name'].eq(gs_df_men['winner_name'].shift())\n",
    "\n",
    "# Creating a streak indictor column that contains numbers that indicate different streaks\n",
    "gs_df_men['streak_indicator_num'] = (~gs_df_men['streak_indicator_bool']).cumsum()\n",
    "\n",
    "# Grouping the dataframe by 'winner_name' and 'streak_indicator_num' \n",
    "streaks_men = gs_df_men.groupby(['winner_name', 'streak_indicator_num']).size()\n",
    "\n",
    "# Sorting the streaks object to find 5 longest streaks \n",
    "highest_streaks = streaks_men.sort_values(ascending=False)\n",
    "\n",
    "# Getting the players who got the longest streaks\n",
    "players_with_highest_streak = list(highest_streaks.index.get_level_values('winner_name'))\n",
    "\n",
    "highest_streaks = list(highest_streaks.values)\n",
    "\n",
    "# Making a dictionary of the players with their streaks\n",
    "unique_highest_streaks = {\n",
    "    'player' : players_with_highest_streak,\n",
    "    'streak' : highest_streaks\n",
    "}\n",
    "\n",
    "# Making the dictionary into a dataframe\n",
    "unique_highest_streaks_df = pd.DataFrame(unique_highest_streaks)\n",
    "\n",
    "# Dropping rows that have the same pair of entries in the 'player' and 'streak' column \n",
    "unique_highest_streaks_df.drop_duplicates(subset=['player', 'streak'], inplace=True)\n",
    "\n",
    "# Getting the top 5 plpayers and streaks\n",
    "top_5_players = list(unique_highest_streaks_df['player'].head(5))\n",
    "top_5_streaks = list(unique_highest_streaks_df['streak'].head(5))\n",
    "\n",
    "# Printing the results\n",
    "print(f'Players with highest streaks are {top_5_players}, with streak(s) of {top_5_streaks}, respectively.')"
   ]
  }
 ],
 "metadata": {
  "kernelspec": {
   "display_name": "python_intro",
   "language": "python",
   "name": "python3"
  },
  "language_info": {
   "codemirror_mode": {
    "name": "ipython",
    "version": 3
   },
   "file_extension": ".py",
   "mimetype": "text/x-python",
   "name": "python",
   "nbconvert_exporter": "python",
   "pygments_lexer": "ipython3",
   "version": "3.12.2"
  }
 },
 "nbformat": 4,
 "nbformat_minor": 2
}
