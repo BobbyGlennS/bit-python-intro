{
 "cells": [
  {
   "cell_type": "code",
   "execution_count": 1,
   "metadata": {},
   "outputs": [],
   "source": [
    "# Importing relevant packages\n",
    "import numpy as np\n",
    "import pandas as pd"
   ]
  },
  {
   "cell_type": "code",
   "execution_count": 2,
   "metadata": {},
   "outputs": [],
   "source": [
    "# Loading in the data\n",
    "df = pd.read_csv('combined_data/combined_matches.csv')"
   ]
  },
  {
   "cell_type": "code",
   "execution_count": 7,
   "metadata": {},
   "outputs": [],
   "source": [
    "# Splitting the dataframe into male and female players\n",
    "df_men = df[df['Tour'] == 'ATP']\n",
    "df_women = df[df['Tour'] == 'WTA']"
   ]
  },
  {
   "cell_type": "code",
   "execution_count": 8,
   "metadata": {},
   "outputs": [],
   "source": [
    "# Selecting rows that are grand slam finals \n",
    "gs_men_df = df_men[(df_men['tourney_level'] == 'G') & (df_men['round'] == 'F')]\n",
    "gs_women_df = df_women[(df_women['tourney_level'] == 'G') & (df_women['round'] == 'F')]"
   ]
  },
  {
   "cell_type": "code",
   "execution_count": 61,
   "metadata": {},
   "outputs": [
    {
     "name": "stderr",
     "output_type": "stream",
     "text": [
      "/var/folders/0y/kwj64yc97xx24jsr0mfc7f840000gp/T/ipykernel_85274/2758704924.py:1: SettingWithCopyWarning: \n",
      "A value is trying to be set on a copy of a slice from a DataFrame.\n",
      "Try using .loc[row_indexer,col_indexer] = value instead\n",
      "\n",
      "See the caveats in the documentation: https://pandas.pydata.org/pandas-docs/stable/user_guide/indexing.html#returning-a-view-versus-a-copy\n",
      "  gs_men_df['tourney_date'] = pd.to_datetime(gs_men_df['tourney_date'], format='%Y%m%d')\n"
     ]
    }
   ],
   "source": [
    "# Changing date to more standard format\n",
    "gs_men_df['tourney_date'] = pd.to_datetime(gs_men_df['tourney_date'], format='%Y%m%d')\n",
    "gs_women_df['tourney_date'] = pd.to_datetime(gs_women_df['tourney_date'], format='%Y%m%d')"
   ]
  },
  {
   "cell_type": "code",
   "execution_count": 17,
   "metadata": {},
   "outputs": [
    {
     "name": "stderr",
     "output_type": "stream",
     "text": [
      "/var/folders/0y/kwj64yc97xx24jsr0mfc7f840000gp/T/ipykernel_85274/2205160247.py:1: SettingWithCopyWarning: \n",
      "A value is trying to be set on a copy of a slice from a DataFrame.\n",
      "Try using .loc[row_indexer,col_indexer] = value instead\n",
      "\n",
      "See the caveats in the documentation: https://pandas.pydata.org/pandas-docs/stable/user_guide/indexing.html#returning-a-view-versus-a-copy\n",
      "  gs_men_df['consecutive_win'] = gs_men_df['winner_name'].eq(gs_men_df['winner_name'].shift())\n"
     ]
    }
   ],
   "source": [
    "# Adding a boolean column that indicates winning streaks\n",
    "gs_men_df['consecutive_win'] = gs_men_df['winner_name'].eq(gs_men_df['winner_name'].shift())"
   ]
  },
  {
   "cell_type": "code",
   "execution_count": 29,
   "metadata": {},
   "outputs": [
    {
     "name": "stderr",
     "output_type": "stream",
     "text": [
      "/var/folders/0y/kwj64yc97xx24jsr0mfc7f840000gp/T/ipykernel_85274/508929545.py:1: SettingWithCopyWarning: \n",
      "A value is trying to be set on a copy of a slice from a DataFrame.\n",
      "Try using .loc[row_indexer,col_indexer] = value instead\n",
      "\n",
      "See the caveats in the documentation: https://pandas.pydata.org/pandas-docs/stable/user_guide/indexing.html#returning-a-view-versus-a-copy\n",
      "  gs_men_df['streak_indicator'] = (~gs_men_df['consecutive_win']).cumsum()\n"
     ]
    }
   ],
   "source": [
    "# Adding a column that highlights which players have a streak\n",
    "gs_men_df['streak_indicator'] = (~gs_men_df['consecutive_win']).cumsum()"
   ]
  },
  {
   "cell_type": "code",
   "execution_count": 38,
   "metadata": {},
   "outputs": [],
   "source": [
    "# Grouping the dataframe by winner_name and streak_indicator\n",
    "consecutive_wins = gs_men_df.groupby(['winner_name', 'streak_indicator']).size()"
   ]
  },
  {
   "cell_type": "code",
   "execution_count": 59,
   "metadata": {},
   "outputs": [],
   "source": [
    "# Making a list of the players names that have the longest streaks \n",
    "longest_streaks = list(consecutive_wins[consecutive_wins == consecutive_wins.max()].index.get_level_values('winner_name'))"
   ]
  },
  {
   "cell_type": "code",
   "execution_count": 60,
   "metadata": {},
   "outputs": [
    {
     "name": "stdout",
     "output_type": "stream",
     "text": [
      "The longest consecutive Grand Slam win streak is 4 tournaments.\n",
      "Player(s) with this streak: ['Novak Djokovic', 'Rod Laver']\n"
     ]
    }
   ],
   "source": [
    "# Printing the outcome\n",
    "print(f\"The longest consecutive Grand Slam win streak is {consecutive_wins.max()} tournaments.\")\n",
    "print(\"Player(s) with this streak:\", longest_streaks)"
   ]
  }
 ],
 "metadata": {
  "kernelspec": {
   "display_name": "base",
   "language": "python",
   "name": "python3"
  },
  "language_info": {
   "codemirror_mode": {
    "name": "ipython",
    "version": 3
   },
   "file_extension": ".py",
   "mimetype": "text/x-python",
   "name": "python",
   "nbconvert_exporter": "python",
   "pygments_lexer": "ipython3",
   "version": "3.12.2"
  }
 },
 "nbformat": 4,
 "nbformat_minor": 2
}
